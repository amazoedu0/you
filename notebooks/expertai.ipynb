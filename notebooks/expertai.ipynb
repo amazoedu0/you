{
 "cells": [
  {
   "cell_type": "markdown",
   "metadata": {},
   "source": [
    "## Local API"
   ]
  },
  {
   "cell_type": "code",
   "execution_count": null,
   "metadata": {},
   "outputs": [],
   "source": [
    "from expertai.nlapi.edge.client import ExpertAiClient\n",
    "client = ExpertAiClient()"
   ]
  },
  {
   "cell_type": "code",
   "execution_count": 15,
   "metadata": {},
   "outputs": [
    {
     "name": "stdout",
     "output_type": "stream",
     "text": [
      "ENTITY                                   TYPE      \n",
      "Feb-25                                   DAT       \n",
      "17:00                                    HOU       \n",
      "Berkeley                                 GEO       \n"
     ]
    }
   ],
   "source": [
    "# NER\n",
    "text = 'Shall we meet at 5pm on 25th Feb in Berkeley?' \n",
    "language= 'en'\n",
    "document = client.named_entity_recognition(text)\n",
    "print (f'{\"ENTITY\":{40}} {\"TYPE\":{10}}')\n",
    "       \n",
    "for entity in document.entities:\n",
    "    print (f'{entity.lemma:{40}} {entity.type_:{10}}')"
   ]
  },
  {
   "cell_type": "code",
   "execution_count": 16,
   "metadata": {},
   "outputs": [
    {
     "name": "stdout",
     "output_type": "stream",
     "text": [
      "sentiment: 31.1\n"
     ]
    }
   ],
   "source": [
    "# Sentiment\n",
    "text = 'I love my chinni!'\n",
    "document = client.sentiment(text)\n",
    "print(\"sentiment:\", document.sentiment.overall)"
   ]
  },
  {
   "cell_type": "markdown",
   "metadata": {},
   "source": [
    "## Cloud API"
   ]
  },
  {
   "cell_type": "code",
   "execution_count": 18,
   "metadata": {},
   "outputs": [],
   "source": [
    "!export EAI_USERNAME=\n",
    "!export EAI_PASSWORD=\n"
   ]
  },
  {
   "cell_type": "code",
   "execution_count": 19,
   "metadata": {},
   "outputs": [],
   "source": [
    "from expertai.nlapi.cloud.client import ExpertAiClient\n",
    "client = ExpertAiClient()"
   ]
  },
  {
   "cell_type": "code",
   "execution_count": 20,
   "metadata": {},
   "outputs": [
    {
     "name": "stdout",
     "output_type": "stream",
     "text": [
      "ENTITY                                   TYPE      \n",
      "Feb-25                                   DAT       \n",
      "17:00                                    HOU       \n",
      "Berkeley                                 GEO       \n"
     ]
    }
   ],
   "source": [
    "# NER\n",
    "text = 'Shall we meet at 5pm on 25th Feb in Berkeley?' \n",
    "language= 'en'\n",
    "document = client.specific_resource_analysis(\n",
    "    body={\"document\": {\"text\": text}}, \n",
    "    params={'language': language, 'resource': 'entities'})\n",
    "print (f'{\"ENTITY\":{40}} {\"TYPE\":{10}}')\n",
    "       \n",
    "for entity in document.entities:\n",
    "    print (f'{entity.lemma:{40}} {entity.type_:{10}}')"
   ]
  },
  {
   "cell_type": "code",
   "execution_count": 21,
   "metadata": {},
   "outputs": [
    {
     "name": "stdout",
     "output_type": "stream",
     "text": [
      "sentiment: 31.1\n"
     ]
    }
   ],
   "source": [
    "# Sentiment\n",
    "text = 'I love my chinni!'\n",
    "document = client.specific_resource_analysis(\n",
    "    body={\"document\": {\"text\": text}}, \n",
    "    params={'language': language, 'resource': 'sentiment'})\n",
    "print(\"sentiment:\", document.sentiment.overall)"
   ]
  },
  {
   "cell_type": "code",
   "execution_count": null,
   "metadata": {},
   "outputs": [],
   "source": []
  }
 ],
 "metadata": {
  "kernelspec": {
   "display_name": "Python 3",
   "language": "python",
   "name": "python3"
  },
  "language_info": {
   "codemirror_mode": {
    "name": "ipython",
    "version": 3
   },
   "file_extension": ".py",
   "mimetype": "text/x-python",
   "name": "python",
   "nbconvert_exporter": "python",
   "pygments_lexer": "ipython3",
   "version": "3.8.3"
  }
 },
 "nbformat": 4,
 "nbformat_minor": 4
}
