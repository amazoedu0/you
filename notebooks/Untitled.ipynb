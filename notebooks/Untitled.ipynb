{
 "cells": [
  {
   "cell_type": "code",
   "execution_count": 1,
   "metadata": {},
   "outputs": [],
   "source": [
    "import transformers"
   ]
  },
  {
   "cell_type": "code",
   "execution_count": 2,
   "metadata": {},
   "outputs": [],
   "source": [
    "tokenizer = transformers.GPT2Tokenizer.from_pretrained(\"distilgpt2\")"
   ]
  },
  {
   "cell_type": "code",
   "execution_count": 14,
   "metadata": {},
   "outputs": [],
   "source": [
    "txt = '''Vivek is 😅'''\n",
    "\n"
   ]
  },
  {
   "cell_type": "code",
   "execution_count": 20,
   "metadata": {},
   "outputs": [
    {
     "data": {
      "text/plain": [
       "[53, 425, 74, 318, 12520, 11805]"
      ]
     },
     "execution_count": 20,
     "metadata": {},
     "output_type": "execute_result"
    }
   ],
   "source": [
    "a = tokenizer(txt)['input_ids']\n",
    "a"
   ]
  },
  {
   "cell_type": "code",
   "execution_count": 23,
   "metadata": {},
   "outputs": [
    {
     "name": "stdout",
     "output_type": "stream",
     "text": [
      "V\n",
      "ive\n",
      "k\n",
      " is\n",
      " �\n",
      "��\n"
     ]
    }
   ],
   "source": [
    "for t in a:\n",
    "    print(tokenizer.decode(t))"
   ]
  },
  {
   "cell_type": "code",
   "execution_count": 24,
   "metadata": {},
   "outputs": [],
   "source": [
    "from transformers import pipeline"
   ]
  },
  {
   "cell_type": "code",
   "execution_count": 25,
   "metadata": {},
   "outputs": [
    {
     "data": {
      "application/vnd.jupyter.widget-view+json": {
       "model_id": "69b8891a877b47ee9319d3ff3d1b8b88",
       "version_major": 2,
       "version_minor": 0
      },
      "text/plain": [
       "HBox(children=(FloatProgress(value=0.0, description='Downloading', max=665.0, style=ProgressStyle(description_…"
      ]
     },
     "metadata": {},
     "output_type": "display_data"
    },
    {
     "name": "stdout",
     "output_type": "stream",
     "text": [
      "\n"
     ]
    },
    {
     "data": {
      "application/vnd.jupyter.widget-view+json": {
       "model_id": "a6764b5df31a4e75a5b1e0be9ee0f642",
       "version_major": 2,
       "version_minor": 0
      },
      "text/plain": [
       "HBox(children=(FloatProgress(value=0.0, description='Downloading', max=548118077.0, style=ProgressStyle(descri…"
      ]
     },
     "metadata": {},
     "output_type": "display_data"
    },
    {
     "name": "stdout",
     "output_type": "stream",
     "text": [
      "\n"
     ]
    },
    {
     "name": "stderr",
     "output_type": "stream",
     "text": [
      "Some weights of GPT2Model were not initialized from the model checkpoint at gpt2 and are newly initialized: ['h.0.attn.masked_bias', 'h.1.attn.masked_bias', 'h.2.attn.masked_bias', 'h.3.attn.masked_bias', 'h.4.attn.masked_bias', 'h.5.attn.masked_bias', 'h.6.attn.masked_bias', 'h.7.attn.masked_bias', 'h.8.attn.masked_bias', 'h.9.attn.masked_bias', 'h.10.attn.masked_bias', 'h.11.attn.masked_bias']\n",
      "You should probably TRAIN this model on a down-stream task to be able to use it for predictions and inference.\n"
     ]
    },
    {
     "data": {
      "application/vnd.jupyter.widget-view+json": {
       "model_id": "31dcdf81df89462badc4b3977bc7a208",
       "version_major": 2,
       "version_minor": 0
      },
      "text/plain": [
       "HBox(children=(FloatProgress(value=0.0, description='Downloading', max=1042301.0, style=ProgressStyle(descript…"
      ]
     },
     "metadata": {},
     "output_type": "display_data"
    },
    {
     "name": "stdout",
     "output_type": "stream",
     "text": [
      "\n"
     ]
    },
    {
     "data": {
      "application/vnd.jupyter.widget-view+json": {
       "model_id": "69228c44eccd4639a21b6aba0d2923f2",
       "version_major": 2,
       "version_minor": 0
      },
      "text/plain": [
       "HBox(children=(FloatProgress(value=0.0, description='Downloading', max=456318.0, style=ProgressStyle(descripti…"
      ]
     },
     "metadata": {},
     "output_type": "display_data"
    },
    {
     "name": "stdout",
     "output_type": "stream",
     "text": [
      "\n"
     ]
    },
    {
     "data": {
      "application/vnd.jupyter.widget-view+json": {
       "model_id": "7448df14f9434d91af03d3475ddb3e33",
       "version_major": 2,
       "version_minor": 0
      },
      "text/plain": [
       "HBox(children=(FloatProgress(value=0.0, description='Downloading', max=1355256.0, style=ProgressStyle(descript…"
      ]
     },
     "metadata": {},
     "output_type": "display_data"
    },
    {
     "name": "stdout",
     "output_type": "stream",
     "text": [
      "\n"
     ]
    }
   ],
   "source": [
    "pt_generator = pipeline('text-generation', model='gpt2')"
   ]
  },
  {
   "cell_type": "code",
   "execution_count": 26,
   "metadata": {},
   "outputs": [
    {
     "name": "stderr",
     "output_type": "stream",
     "text": [
      "Setting `pad_token_id` to `eos_token_id`:50256 for open-end generation.\n"
     ]
    },
    {
     "name": "stdout",
     "output_type": "stream",
     "text": [
      "ERROR! Session/line number was not unique in database. History logging moved to new session 256\n"
     ]
    },
    {
     "data": {
      "text/plain": [
       "[{'generated_text': \"Vivek: \\xa0That sounds like a bad thing to be saying.\\nVivek: I'm not gonna say that!\\nDuckbill : I'm in favor of our alliance alliance!\\n[Vivek and Duckbill\"},\n",
       " {'generated_text': 'Vivek: \\xa0The story has been going on my whole life for about a year when I got the call to respond to this email.... \\xa0What can I say? \\xa0I was just a little nervous. \\xa0I never'},\n",
       " {'generated_text': 'Vivek: 𝒩 I believe you\\'re talking from a good point of view, is that what you\\'re saying about being \"defective\"? [Mumbles.]\\n\\nZhang: I am not. I believe the good.'}]"
      ]
     },
     "execution_count": 26,
     "metadata": {},
     "output_type": "execute_result"
    }
   ],
   "source": [
    "pt_generator(\"Vivek: \", max_length=50, num_return_sequences=3)"
   ]
  },
  {
   "cell_type": "code",
   "execution_count": 29,
   "metadata": {},
   "outputs": [
    {
     "name": "stdout",
     "output_type": "stream",
     "text": [
      "ERROR! Session/line number was not unique in database. History logging moved to new session 257\n"
     ]
    }
   ],
   "source": [
    "ft_generator = pipeline('text-generation', model='../output')"
   ]
  },
  {
   "cell_type": "code",
   "execution_count": 31,
   "metadata": {},
   "outputs": [
    {
     "name": "stderr",
     "output_type": "stream",
     "text": [
      "Setting `pad_token_id` to `eos_token_id`:50256 for open-end generation.\n"
     ]
    },
    {
     "data": {
      "text/plain": [
       "[{'generated_text': 'Vivek: Yo ikka! Yoyo! 🤣🤣🤣🤣🤣🤣🤣🤣🤣🤣🤣🤣 �'},\n",
       " {'generated_text': 'Vivek: Yo ike9/30/19, 9:06 AM - Vivek: Yeah!9/31/20, 9:06 AM - Vivek: It should be easy 😅9/31/20, 9'},\n",
       " {'generated_text': \"Vivek: Yo ikro maxi8/31/20, 1:19 PM - Vivek: I guess I'll send her some pics8/31/20, 1:19 PM - Vivek: Howdy awesome8\"}]"
      ]
     },
     "execution_count": 31,
     "metadata": {},
     "output_type": "execute_result"
    }
   ],
   "source": [
    "ft_generator(\"Vivek: Yo \", max_length=50, num_return_sequences=3)"
   ]
  },
  {
   "cell_type": "code",
   "execution_count": null,
   "metadata": {},
   "outputs": [
    {
     "name": "stderr",
     "output_type": "stream",
     "text": [
      "ERROR:root:Internal Python error in the inspect module.\n",
      "Below is the traceback from this internal error.\n",
      "\n",
      "ERROR:root:Internal Python error in the inspect module.\n",
      "Below is the traceback from this internal error.\n",
      "\n",
      "ERROR:root:Internal Python error in the inspect module.\n",
      "Below is the traceback from this internal error.\n",
      "\n"
     ]
    },
    {
     "name": "stdout",
     "output_type": "stream",
     "text": [
      "Traceback (most recent call last):\n",
      "  File \"/home/nuwandavek/anaconda3/envs/peace/lib/python3.8/site-packages/IPython/core/interactiveshell.py\", line 3417, in run_code\n",
      "    exec(code_obj, self.user_global_ns, self.user_ns)\n",
      "  File \"<ipython-input-29-a93ffb0f98e0>\", line 2, in <module>\n",
      "    os.getcwd()\n",
      "FileNotFoundError: [Errno 2] No such file or directory\n",
      "\n",
      "During handling of the above exception, another exception occurred:\n",
      "\n",
      "Traceback (most recent call last):\n",
      "  File \"/home/nuwandavek/anaconda3/envs/peace/lib/python3.8/site-packages/IPython/core/interactiveshell.py\", line 2044, in showtraceback\n",
      "    stb = value._render_traceback_()\n",
      "AttributeError: 'FileNotFoundError' object has no attribute '_render_traceback_'\n",
      "\n",
      "During handling of the above exception, another exception occurred:\n",
      "\n",
      "Traceback (most recent call last):\n",
      "  File \"/home/nuwandavek/anaconda3/envs/peace/lib/python3.8/site-packages/IPython/core/ultratb.py\", line 1169, in get_records\n",
      "    return _fixed_getinnerframes(etb, number_of_lines_of_context, tb_offset)\n",
      "  File \"/home/nuwandavek/anaconda3/envs/peace/lib/python3.8/site-packages/IPython/core/ultratb.py\", line 316, in wrapped\n",
      "    return f(*args, **kwargs)\n",
      "  File \"/home/nuwandavek/anaconda3/envs/peace/lib/python3.8/site-packages/IPython/core/ultratb.py\", line 350, in _fixed_getinnerframes\n",
      "    records = fix_frame_records_filenames(inspect.getinnerframes(etb, context))\n",
      "  File \"/home/nuwandavek/anaconda3/envs/peace/lib/python3.8/inspect.py\", line 1503, in getinnerframes\n",
      "    frameinfo = (tb.tb_frame,) + getframeinfo(tb, context)\n",
      "  File \"/home/nuwandavek/anaconda3/envs/peace/lib/python3.8/inspect.py\", line 1461, in getframeinfo\n",
      "    filename = getsourcefile(frame) or getfile(frame)\n",
      "  File \"/home/nuwandavek/anaconda3/envs/peace/lib/python3.8/inspect.py\", line 708, in getsourcefile\n",
      "    if getattr(getmodule(object, filename), '__loader__', None) is not None:\n",
      "  File \"/home/nuwandavek/anaconda3/envs/peace/lib/python3.8/inspect.py\", line 737, in getmodule\n",
      "    file = getabsfile(object, _filename)\n",
      "  File \"/home/nuwandavek/anaconda3/envs/peace/lib/python3.8/inspect.py\", line 721, in getabsfile\n",
      "    return os.path.normcase(os.path.abspath(_filename))\n",
      "  File \"/home/nuwandavek/anaconda3/envs/peace/lib/python3.8/posixpath.py\", line 379, in abspath\n",
      "    cwd = os.getcwd()\n",
      "FileNotFoundError: [Errno 2] No such file or directory\n",
      "Traceback (most recent call last):\n",
      "  File \"/home/nuwandavek/anaconda3/envs/peace/lib/python3.8/site-packages/IPython/core/interactiveshell.py\", line 3417, in run_code\n",
      "    exec(code_obj, self.user_global_ns, self.user_ns)\n",
      "  File \"<ipython-input-29-a93ffb0f98e0>\", line 2, in <module>\n",
      "    os.getcwd()\n",
      "FileNotFoundError: [Errno 2] No such file or directory\n",
      "\n",
      "During handling of the above exception, another exception occurred:\n",
      "\n",
      "Traceback (most recent call last):\n",
      "  File \"/home/nuwandavek/anaconda3/envs/peace/lib/python3.8/site-packages/IPython/core/interactiveshell.py\", line 2044, in showtraceback\n",
      "    stb = value._render_traceback_()\n",
      "AttributeError: 'FileNotFoundError' object has no attribute '_render_traceback_'\n",
      "\n",
      "During handling of the above exception, another exception occurred:\n",
      "\n",
      "Traceback (most recent call last):\n",
      "  File \"/home/nuwandavek/anaconda3/envs/peace/lib/python3.8/site-packages/IPython/core/interactiveshell.py\", line 3337, in run_ast_nodes\n",
      "    if (await self.run_code(code, result,  async_=asy)):\n",
      "  File \"/home/nuwandavek/anaconda3/envs/peace/lib/python3.8/site-packages/IPython/core/interactiveshell.py\", line 3434, in run_code\n",
      "    self.showtraceback(running_compiled_code=True)\n",
      "  File \"/home/nuwandavek/anaconda3/envs/peace/lib/python3.8/site-packages/IPython/core/interactiveshell.py\", line 2046, in showtraceback\n",
      "    stb = self.InteractiveTB.structured_traceback(etype,\n",
      "  File \"/home/nuwandavek/anaconda3/envs/peace/lib/python3.8/site-packages/IPython/core/ultratb.py\", line 1435, in structured_traceback\n",
      "    return FormattedTB.structured_traceback(\n",
      "  File \"/home/nuwandavek/anaconda3/envs/peace/lib/python3.8/site-packages/IPython/core/ultratb.py\", line 1335, in structured_traceback\n",
      "    return VerboseTB.structured_traceback(\n",
      "  File \"/home/nuwandavek/anaconda3/envs/peace/lib/python3.8/site-packages/IPython/core/ultratb.py\", line 1192, in structured_traceback\n",
      "    formatted_exception = self.format_exception_as_a_whole(etype, evalue, etb, number_of_lines_of_context,\n",
      "  File \"/home/nuwandavek/anaconda3/envs/peace/lib/python3.8/site-packages/IPython/core/ultratb.py\", line 1150, in format_exception_as_a_whole\n",
      "    last_unique, recursion_repeat = find_recursion(orig_etype, evalue, records)\n",
      "  File \"/home/nuwandavek/anaconda3/envs/peace/lib/python3.8/site-packages/IPython/core/ultratb.py\", line 451, in find_recursion\n",
      "    return len(records), 0\n",
      "TypeError: object of type 'NoneType' has no len()\n",
      "\n",
      "During handling of the above exception, another exception occurred:\n",
      "\n",
      "Traceback (most recent call last):\n",
      "  File \"/home/nuwandavek/anaconda3/envs/peace/lib/python3.8/site-packages/IPython/core/interactiveshell.py\", line 2044, in showtraceback\n",
      "    stb = value._render_traceback_()\n",
      "AttributeError: 'TypeError' object has no attribute '_render_traceback_'\n",
      "\n",
      "During handling of the above exception, another exception occurred:\n",
      "\n",
      "Traceback (most recent call last):\n",
      "  File \"/home/nuwandavek/anaconda3/envs/peace/lib/python3.8/site-packages/IPython/core/ultratb.py\", line 1169, in get_records\n",
      "    return _fixed_getinnerframes(etb, number_of_lines_of_context, tb_offset)\n",
      "  File \"/home/nuwandavek/anaconda3/envs/peace/lib/python3.8/site-packages/IPython/core/ultratb.py\", line 316, in wrapped\n",
      "    return f(*args, **kwargs)\n",
      "  File \"/home/nuwandavek/anaconda3/envs/peace/lib/python3.8/site-packages/IPython/core/ultratb.py\", line 350, in _fixed_getinnerframes\n",
      "    records = fix_frame_records_filenames(inspect.getinnerframes(etb, context))\n",
      "  File \"/home/nuwandavek/anaconda3/envs/peace/lib/python3.8/inspect.py\", line 1503, in getinnerframes\n",
      "    frameinfo = (tb.tb_frame,) + getframeinfo(tb, context)\n",
      "  File \"/home/nuwandavek/anaconda3/envs/peace/lib/python3.8/inspect.py\", line 1461, in getframeinfo\n",
      "    filename = getsourcefile(frame) or getfile(frame)\n",
      "  File \"/home/nuwandavek/anaconda3/envs/peace/lib/python3.8/inspect.py\", line 708, in getsourcefile\n",
      "    if getattr(getmodule(object, filename), '__loader__', None) is not None:\n",
      "  File \"/home/nuwandavek/anaconda3/envs/peace/lib/python3.8/inspect.py\", line 737, in getmodule\n",
      "    file = getabsfile(object, _filename)\n",
      "  File \"/home/nuwandavek/anaconda3/envs/peace/lib/python3.8/inspect.py\", line 721, in getabsfile\n",
      "    return os.path.normcase(os.path.abspath(_filename))\n",
      "  File \"/home/nuwandavek/anaconda3/envs/peace/lib/python3.8/posixpath.py\", line 379, in abspath\n",
      "    cwd = os.getcwd()\n",
      "FileNotFoundError: [Errno 2] No such file or directory\n",
      "Traceback (most recent call last):\n",
      "  File \"/home/nuwandavek/anaconda3/envs/peace/lib/python3.8/site-packages/IPython/core/interactiveshell.py\", line 3417, in run_code\n",
      "    exec(code_obj, self.user_global_ns, self.user_ns)\n",
      "  File \"<ipython-input-29-a93ffb0f98e0>\", line 2, in <module>\n",
      "    os.getcwd()\n",
      "FileNotFoundError: [Errno 2] No such file or directory\n",
      "\n",
      "During handling of the above exception, another exception occurred:\n",
      "\n",
      "Traceback (most recent call last):\n",
      "  File \"/home/nuwandavek/anaconda3/envs/peace/lib/python3.8/site-packages/IPython/core/interactiveshell.py\", line 2044, in showtraceback\n",
      "    stb = value._render_traceback_()\n",
      "AttributeError: 'FileNotFoundError' object has no attribute '_render_traceback_'\n",
      "\n",
      "During handling of the above exception, another exception occurred:\n",
      "\n",
      "Traceback (most recent call last):\n",
      "  File \"/home/nuwandavek/anaconda3/envs/peace/lib/python3.8/site-packages/IPython/core/interactiveshell.py\", line 3337, in run_ast_nodes\n",
      "    if (await self.run_code(code, result,  async_=asy)):\n",
      "  File \"/home/nuwandavek/anaconda3/envs/peace/lib/python3.8/site-packages/IPython/core/interactiveshell.py\", line 3434, in run_code\n",
      "    self.showtraceback(running_compiled_code=True)\n",
      "  File \"/home/nuwandavek/anaconda3/envs/peace/lib/python3.8/site-packages/IPython/core/interactiveshell.py\", line 2046, in showtraceback\n",
      "    stb = self.InteractiveTB.structured_traceback(etype,\n",
      "  File \"/home/nuwandavek/anaconda3/envs/peace/lib/python3.8/site-packages/IPython/core/ultratb.py\", line 1435, in structured_traceback\n",
      "    return FormattedTB.structured_traceback(\n",
      "  File \"/home/nuwandavek/anaconda3/envs/peace/lib/python3.8/site-packages/IPython/core/ultratb.py\", line 1335, in structured_traceback\n",
      "    return VerboseTB.structured_traceback(\n",
      "  File \"/home/nuwandavek/anaconda3/envs/peace/lib/python3.8/site-packages/IPython/core/ultratb.py\", line 1192, in structured_traceback\n",
      "    formatted_exception = self.format_exception_as_a_whole(etype, evalue, etb, number_of_lines_of_context,\n",
      "  File \"/home/nuwandavek/anaconda3/envs/peace/lib/python3.8/site-packages/IPython/core/ultratb.py\", line 1150, in format_exception_as_a_whole\n",
      "    last_unique, recursion_repeat = find_recursion(orig_etype, evalue, records)\n",
      "  File \"/home/nuwandavek/anaconda3/envs/peace/lib/python3.8/site-packages/IPython/core/ultratb.py\", line 451, in find_recursion\n",
      "    return len(records), 0\n",
      "TypeError: object of type 'NoneType' has no len()\n",
      "\n",
      "During handling of the above exception, another exception occurred:\n",
      "\n",
      "Traceback (most recent call last):\n",
      "  File \"/home/nuwandavek/anaconda3/envs/peace/lib/python3.8/site-packages/IPython/core/interactiveshell.py\", line 2044, in showtraceback\n",
      "    stb = value._render_traceback_()\n",
      "AttributeError: 'TypeError' object has no attribute '_render_traceback_'\n",
      "\n",
      "During handling of the above exception, another exception occurred:\n",
      "\n",
      "Traceback (most recent call last):\n",
      "  File \"/home/nuwandavek/anaconda3/envs/peace/lib/python3.8/site-packages/IPython/core/interactiveshell.py\", line 2922, in _run_cell\n",
      "    return runner(coro)\n",
      "  File \"/home/nuwandavek/anaconda3/envs/peace/lib/python3.8/site-packages/IPython/core/async_helpers.py\", line 68, in _pseudo_sync_runner\n",
      "    coro.send(None)\n",
      "  File \"/home/nuwandavek/anaconda3/envs/peace/lib/python3.8/site-packages/IPython/core/interactiveshell.py\", line 3145, in run_cell_async\n",
      "    has_raised = await self.run_ast_nodes(code_ast.body, cell_name,\n",
      "  File \"/home/nuwandavek/anaconda3/envs/peace/lib/python3.8/site-packages/IPython/core/interactiveshell.py\", line 3356, in run_ast_nodes\n",
      "    self.showtraceback()\n",
      "  File \"/home/nuwandavek/anaconda3/envs/peace/lib/python3.8/site-packages/IPython/core/interactiveshell.py\", line 2046, in showtraceback\n",
      "    stb = self.InteractiveTB.structured_traceback(etype,\n",
      "  File \"/home/nuwandavek/anaconda3/envs/peace/lib/python3.8/site-packages/IPython/core/ultratb.py\", line 1435, in structured_traceback\n",
      "    return FormattedTB.structured_traceback(\n",
      "  File \"/home/nuwandavek/anaconda3/envs/peace/lib/python3.8/site-packages/IPython/core/ultratb.py\", line 1335, in structured_traceback\n",
      "    return VerboseTB.structured_traceback(\n",
      "  File \"/home/nuwandavek/anaconda3/envs/peace/lib/python3.8/site-packages/IPython/core/ultratb.py\", line 1210, in structured_traceback\n",
      "    formatted_exceptions += self.format_exception_as_a_whole(etype, evalue, etb, lines_of_context,\n",
      "  File \"/home/nuwandavek/anaconda3/envs/peace/lib/python3.8/site-packages/IPython/core/ultratb.py\", line 1150, in format_exception_as_a_whole\n",
      "    last_unique, recursion_repeat = find_recursion(orig_etype, evalue, records)\n",
      "  File \"/home/nuwandavek/anaconda3/envs/peace/lib/python3.8/site-packages/IPython/core/ultratb.py\", line 451, in find_recursion\n",
      "    return len(records), 0\n",
      "TypeError: object of type 'NoneType' has no len()\n",
      "\n",
      "During handling of the above exception, another exception occurred:\n",
      "\n",
      "Traceback (most recent call last):\n",
      "  File \"/home/nuwandavek/anaconda3/envs/peace/lib/python3.8/site-packages/IPython/core/interactiveshell.py\", line 2044, in showtraceback\n",
      "    stb = value._render_traceback_()\n",
      "AttributeError: 'TypeError' object has no attribute '_render_traceback_'\n",
      "\n",
      "During handling of the above exception, another exception occurred:\n",
      "\n",
      "Traceback (most recent call last):\n",
      "  File \"/home/nuwandavek/anaconda3/envs/peace/lib/python3.8/site-packages/IPython/core/ultratb.py\", line 1169, in get_records\n",
      "    return _fixed_getinnerframes(etb, number_of_lines_of_context, tb_offset)\n",
      "  File \"/home/nuwandavek/anaconda3/envs/peace/lib/python3.8/site-packages/IPython/core/ultratb.py\", line 316, in wrapped\n",
      "    return f(*args, **kwargs)\n",
      "  File \"/home/nuwandavek/anaconda3/envs/peace/lib/python3.8/site-packages/IPython/core/ultratb.py\", line 350, in _fixed_getinnerframes\n",
      "    records = fix_frame_records_filenames(inspect.getinnerframes(etb, context))\n",
      "  File \"/home/nuwandavek/anaconda3/envs/peace/lib/python3.8/inspect.py\", line 1503, in getinnerframes\n",
      "    frameinfo = (tb.tb_frame,) + getframeinfo(tb, context)\n",
      "  File \"/home/nuwandavek/anaconda3/envs/peace/lib/python3.8/inspect.py\", line 1461, in getframeinfo\n",
      "    filename = getsourcefile(frame) or getfile(frame)\n",
      "  File \"/home/nuwandavek/anaconda3/envs/peace/lib/python3.8/inspect.py\", line 708, in getsourcefile\n",
      "    if getattr(getmodule(object, filename), '__loader__', None) is not None:\n",
      "  File \"/home/nuwandavek/anaconda3/envs/peace/lib/python3.8/inspect.py\", line 737, in getmodule\n",
      "    file = getabsfile(object, _filename)\n",
      "  File \"/home/nuwandavek/anaconda3/envs/peace/lib/python3.8/inspect.py\", line 721, in getabsfile\n",
      "    return os.path.normcase(os.path.abspath(_filename))\n",
      "  File \"/home/nuwandavek/anaconda3/envs/peace/lib/python3.8/posixpath.py\", line 379, in abspath\n",
      "    cwd = os.getcwd()\n",
      "FileNotFoundError: [Errno 2] No such file or directory\n"
     ]
    }
   ],
   "source": [
    "import os\n",
    "os.getcwd()"
   ]
  },
  {
   "cell_type": "code",
   "execution_count": 1,
   "metadata": {},
   "outputs": [
    {
     "name": "stderr",
     "output_type": "stream",
     "text": [
      "/home/nuwandavek/anaconda3/envs/peace/lib/python3.8/site-packages/transformers/models/auto/modeling_auto.py:890: FutureWarning: The class `AutoModelWithLMHead` is deprecated and will be removed in a future version. Please use `AutoModelForCausalLM` for causal language models, `AutoModelForMaskedLM` for masked language models and `AutoModelForSeq2SeqLM` for encoder-decoder models.\n",
      "  warnings.warn(\n"
     ]
    },
    {
     "ename": "NameError",
     "evalue": "name 'output' is not defined",
     "output_type": "error",
     "traceback": [
      "\u001b[0;31m---------------------------------------------------------------------------\u001b[0m",
      "\u001b[0;31mNameError\u001b[0m                                 Traceback (most recent call last)",
      "\u001b[0;32m<ipython-input-1-bcffde5ec7a6>\u001b[0m in \u001b[0;36m<module>\u001b[0;34m\u001b[0m\n\u001b[1;32m      5\u001b[0m \u001b[0;34m\u001b[0m\u001b[0m\n\u001b[1;32m      6\u001b[0m \u001b[0;34m\u001b[0m\u001b[0m\n\u001b[0;32m----> 7\u001b[0;31m \u001b[0mtokenizer\u001b[0m\u001b[0;34m.\u001b[0m\u001b[0mdecode\u001b[0m\u001b[0;34m(\u001b[0m\u001b[0moutput\u001b[0m\u001b[0;34m[\u001b[0m\u001b[0;36m0\u001b[0m\u001b[0;34m,\u001b[0m \u001b[0;36m0\u001b[0m\u001b[0;34m:\u001b[0m\u001b[0;34m]\u001b[0m\u001b[0;34m.\u001b[0m\u001b[0mtolist\u001b[0m\u001b[0;34m(\u001b[0m\u001b[0;34m)\u001b[0m\u001b[0;34m,\u001b[0m \u001b[0mclean_up_tokenization_spaces\u001b[0m\u001b[0;34m=\u001b[0m\u001b[0;32mTrue\u001b[0m\u001b[0;34m,\u001b[0m \u001b[0mskip_special_tokens\u001b[0m\u001b[0;34m=\u001b[0m\u001b[0;32mTrue\u001b[0m\u001b[0;34m)\u001b[0m\u001b[0;34m\u001b[0m\u001b[0;34m\u001b[0m\u001b[0m\n\u001b[0m",
      "\u001b[0;31mNameError\u001b[0m: name 'output' is not defined"
     ]
    }
   ],
   "source": [
    "from transformers import AutoTokenizer, AutoModelWithLMHead\n",
    "tokenizer = AutoTokenizer.from_pretrained(\"distilgpt2\")\n",
    "model = AutoModelWithLMHead.from_pretrained(\"distilgpt2\")\n",
    "model.eval()\n",
    "\n",
    "\n",
    "tokenizer.decode(output[0, 0:].tolist(), clean_up_tokenization_spaces=True, skip_special_tokens=True)"
   ]
  },
  {
   "cell_type": "code",
   "execution_count": 3,
   "metadata": {},
   "outputs": [],
   "source": [
    "output = model(**tokenizer(\"hello\", return_tensors='pt'))"
   ]
  },
  {
   "cell_type": "code",
   "execution_count": 6,
   "metadata": {},
   "outputs": [
    {
     "ename": "TypeError",
     "evalue": "'list' object cannot be interpreted as an integer",
     "output_type": "error",
     "traceback": [
      "\u001b[0;31m---------------------------------------------------------------------------\u001b[0m",
      "\u001b[0;31mTypeError\u001b[0m                                 Traceback (most recent call last)",
      "\u001b[0;32m<ipython-input-6-7cbd58b8b2b5>\u001b[0m in \u001b[0;36m<module>\u001b[0;34m\u001b[0m\n\u001b[0;32m----> 1\u001b[0;31m \u001b[0mtokenizer\u001b[0m\u001b[0;34m.\u001b[0m\u001b[0mdecode\u001b[0m\u001b[0;34m(\u001b[0m\u001b[0moutput\u001b[0m\u001b[0;34m.\u001b[0m\u001b[0mlogits\u001b[0m\u001b[0;34m[\u001b[0m\u001b[0;36m0\u001b[0m\u001b[0;34m,\u001b[0m \u001b[0;36m0\u001b[0m\u001b[0;34m:\u001b[0m\u001b[0;34m]\u001b[0m\u001b[0;34m.\u001b[0m\u001b[0mtolist\u001b[0m\u001b[0;34m(\u001b[0m\u001b[0;34m)\u001b[0m\u001b[0;34m,\u001b[0m \u001b[0mclean_up_tokenization_spaces\u001b[0m\u001b[0;34m=\u001b[0m\u001b[0;32mTrue\u001b[0m\u001b[0;34m,\u001b[0m \u001b[0mskip_special_tokens\u001b[0m\u001b[0;34m=\u001b[0m\u001b[0;32mTrue\u001b[0m\u001b[0;34m)\u001b[0m\u001b[0;34m\u001b[0m\u001b[0;34m\u001b[0m\u001b[0m\n\u001b[0m",
      "\u001b[0;32m~/anaconda3/envs/peace/lib/python3.8/site-packages/transformers/tokenization_utils_base.py\u001b[0m in \u001b[0;36mdecode\u001b[0;34m(self, token_ids, skip_special_tokens, clean_up_tokenization_spaces, **kwargs)\u001b[0m\n\u001b[1;32m   3143\u001b[0m         \u001b[0mtoken_ids\u001b[0m \u001b[0;34m=\u001b[0m \u001b[0mto_py_obj\u001b[0m\u001b[0;34m(\u001b[0m\u001b[0mtoken_ids\u001b[0m\u001b[0;34m)\u001b[0m\u001b[0;34m\u001b[0m\u001b[0;34m\u001b[0m\u001b[0m\n\u001b[1;32m   3144\u001b[0m \u001b[0;34m\u001b[0m\u001b[0m\n\u001b[0;32m-> 3145\u001b[0;31m         return self._decode(\n\u001b[0m\u001b[1;32m   3146\u001b[0m             \u001b[0mtoken_ids\u001b[0m\u001b[0;34m=\u001b[0m\u001b[0mtoken_ids\u001b[0m\u001b[0;34m,\u001b[0m\u001b[0;34m\u001b[0m\u001b[0;34m\u001b[0m\u001b[0m\n\u001b[1;32m   3147\u001b[0m             \u001b[0mskip_special_tokens\u001b[0m\u001b[0;34m=\u001b[0m\u001b[0mskip_special_tokens\u001b[0m\u001b[0;34m,\u001b[0m\u001b[0;34m\u001b[0m\u001b[0;34m\u001b[0m\u001b[0m\n",
      "\u001b[0;32m~/anaconda3/envs/peace/lib/python3.8/site-packages/transformers/tokenization_utils_fast.py\u001b[0m in \u001b[0;36m_decode\u001b[0;34m(self, token_ids, skip_special_tokens, clean_up_tokenization_spaces, **kwargs)\u001b[0m\n\u001b[1;32m    493\u001b[0m         \u001b[0;32mif\u001b[0m \u001b[0misinstance\u001b[0m\u001b[0;34m(\u001b[0m\u001b[0mtoken_ids\u001b[0m\u001b[0;34m,\u001b[0m \u001b[0mint\u001b[0m\u001b[0;34m)\u001b[0m\u001b[0;34m:\u001b[0m\u001b[0;34m\u001b[0m\u001b[0;34m\u001b[0m\u001b[0m\n\u001b[1;32m    494\u001b[0m             \u001b[0mtoken_ids\u001b[0m \u001b[0;34m=\u001b[0m \u001b[0;34m[\u001b[0m\u001b[0mtoken_ids\u001b[0m\u001b[0;34m]\u001b[0m\u001b[0;34m\u001b[0m\u001b[0;34m\u001b[0m\u001b[0m\n\u001b[0;32m--> 495\u001b[0;31m         \u001b[0mtext\u001b[0m \u001b[0;34m=\u001b[0m \u001b[0mself\u001b[0m\u001b[0;34m.\u001b[0m\u001b[0m_tokenizer\u001b[0m\u001b[0;34m.\u001b[0m\u001b[0mdecode\u001b[0m\u001b[0;34m(\u001b[0m\u001b[0mtoken_ids\u001b[0m\u001b[0;34m,\u001b[0m \u001b[0mskip_special_tokens\u001b[0m\u001b[0;34m=\u001b[0m\u001b[0mskip_special_tokens\u001b[0m\u001b[0;34m)\u001b[0m\u001b[0;34m\u001b[0m\u001b[0;34m\u001b[0m\u001b[0m\n\u001b[0m\u001b[1;32m    496\u001b[0m \u001b[0;34m\u001b[0m\u001b[0m\n\u001b[1;32m    497\u001b[0m         \u001b[0;32mif\u001b[0m \u001b[0mclean_up_tokenization_spaces\u001b[0m\u001b[0;34m:\u001b[0m\u001b[0;34m\u001b[0m\u001b[0;34m\u001b[0m\u001b[0m\n",
      "\u001b[0;31mTypeError\u001b[0m: 'list' object cannot be interpreted as an integer"
     ]
    }
   ],
   "source": [
    "tokenizer.decode(output.logits[0, 0:].tolist(), clean_up_tokenization_spaces=True, skip_special_tokens=True)"
   ]
  },
  {
   "cell_type": "code",
   "execution_count": 5,
   "metadata": {},
   "outputs": [
    {
     "data": {
      "text/plain": [
       "CausalLMOutputWithCrossAttentions(loss=None, logits=tensor([[[-34.7599, -32.6040, -34.7921,  ..., -46.8526, -46.5175, -35.0201]]],\n",
       "       grad_fn=<UnsafeViewBackward>), past_key_values=(tensor([[[[[-0.5080,  2.7666,  1.2115,  ..., -0.9448, -0.4545,  1.9337]],\n",
       "\n",
       "          [[-0.5868, -0.7352, -0.7736,  ...,  0.6036,  2.3463,  0.4850]],\n",
       "\n",
       "          [[ 0.7852, -0.7985,  0.7642,  ..., -1.2831, -1.7224,  0.1401]],\n",
       "\n",
       "          ...,\n",
       "\n",
       "          [[ 0.4744, -0.3729, -0.2193,  ...,  0.6725,  0.9028,  0.4415]],\n",
       "\n",
       "          [[ 0.8341,  0.0833,  0.2784,  ...,  0.0163,  1.0537, -1.1374]],\n",
       "\n",
       "          [[ 0.8617, -0.0361,  0.1004,  ...,  0.1148,  0.3568,  1.3708]]]],\n",
       "\n",
       "\n",
       "\n",
       "        [[[[ 0.0979, -0.0223,  0.0198,  ..., -0.1276,  0.0745, -0.0418]],\n",
       "\n",
       "          [[ 0.0573,  0.0755, -0.0031,  ..., -0.4300, -0.2227,  0.1749]],\n",
       "\n",
       "          [[ 0.2847,  0.1290,  0.0521,  ...,  0.1741, -0.0416, -0.0151]],\n",
       "\n",
       "          ...,\n",
       "\n",
       "          [[ 0.0544,  0.1279,  0.0288,  ..., -0.0315,  0.2776, -0.0855]],\n",
       "\n",
       "          [[-0.0057, -0.0259, -0.0455,  ...,  0.2149, -0.1689, -0.1020]],\n",
       "\n",
       "          [[-0.1332, -0.0662,  0.1062,  ..., -0.2254, -0.1412, -0.0062]]]]],\n",
       "       grad_fn=<StackBackward>), tensor([[[[[ 1.8534e-01, -1.3593e+00,  5.4093e-01,  ..., -1.0305e+00,\n",
       "             7.6333e-02, -3.1286e-02]],\n",
       "\n",
       "          [[-1.0138e+00, -4.9333e-01, -9.5468e-01,  ...,  8.2683e-01,\n",
       "            -2.8446e-01, -7.4974e-01]],\n",
       "\n",
       "          [[ 1.3701e+00,  2.2453e+00,  3.6788e+00,  ...,  8.5773e-01,\n",
       "             1.5433e+00, -1.1755e+00]],\n",
       "\n",
       "          ...,\n",
       "\n",
       "          [[ 1.8455e+00, -2.2046e+00, -2.5971e+00,  ...,  8.3646e-01,\n",
       "             6.2626e-01,  2.3822e+00]],\n",
       "\n",
       "          [[ 1.9203e+00,  4.4411e-01,  8.8407e-01,  ..., -1.9651e-01,\n",
       "            -1.2771e+00,  1.8645e-03]],\n",
       "\n",
       "          [[ 1.4034e-01,  2.7043e-01, -7.3092e-01,  ...,  2.1868e-01,\n",
       "             4.8815e-01,  2.5890e-01]]]],\n",
       "\n",
       "\n",
       "\n",
       "        [[[[ 3.7533e-02, -2.3119e-01, -2.2973e-02,  ...,  1.4652e-02,\n",
       "            -1.0220e-01, -3.6416e-01]],\n",
       "\n",
       "          [[-1.9974e-02,  6.7491e-02, -3.6292e-01,  ..., -1.1338e-01,\n",
       "            -1.1478e-02,  9.8014e-03]],\n",
       "\n",
       "          [[-1.1158e-01, -6.8393e-01,  5.4195e-02,  ..., -8.3851e-02,\n",
       "             6.5000e-02,  3.8696e-02]],\n",
       "\n",
       "          ...,\n",
       "\n",
       "          [[ 1.4466e-01,  7.3589e-02,  8.0330e-01,  ..., -1.1643e-01,\n",
       "             1.7335e-01,  3.6023e-02]],\n",
       "\n",
       "          [[ 1.9218e-01, -1.0313e-01, -3.2787e-01,  ..., -9.4795e-02,\n",
       "            -5.5281e-02, -5.3147e-02]],\n",
       "\n",
       "          [[-6.1937e-02,  8.1172e-02,  5.3414e-02,  ..., -4.4804e-02,\n",
       "            -3.4707e-02, -1.3170e-01]]]]], grad_fn=<StackBackward>), tensor([[[[[-9.7137e-01, -1.6022e-01,  2.9717e-01,  ..., -9.4469e-01,\n",
       "             1.0686e-01, -2.7547e+00]],\n",
       "\n",
       "          [[ 2.7661e-01, -1.0460e-01,  5.2918e-01,  ..., -1.0753e-01,\n",
       "            -2.3020e-01, -2.0053e+00]],\n",
       "\n",
       "          [[ 1.0532e-01, -5.2667e-01, -1.4226e-01,  ...,  8.1900e-02,\n",
       "             1.8975e-01, -1.1237e-01]],\n",
       "\n",
       "          ...,\n",
       "\n",
       "          [[-2.6533e-01, -5.5972e-02,  6.6572e-02,  ...,  1.2948e+00,\n",
       "             1.8971e-01,  1.7709e+00]],\n",
       "\n",
       "          [[-2.6374e-01, -9.1659e-02,  1.2949e-01,  ...,  1.4761e-01,\n",
       "             6.4438e-03, -2.9992e-02]],\n",
       "\n",
       "          [[ 3.3072e+00,  1.1674e+00, -2.5498e+00,  ..., -2.6103e+00,\n",
       "            -4.1494e+00, -1.4643e+00]]]],\n",
       "\n",
       "\n",
       "\n",
       "        [[[[ 3.8378e-02, -1.1145e-02,  3.9704e-03,  ...,  2.9681e-02,\n",
       "            -4.1503e-02,  4.2376e-02]],\n",
       "\n",
       "          [[-4.3778e-02,  3.5903e-02, -1.9527e-01,  ..., -2.5217e-02,\n",
       "            -3.9099e-03,  5.4301e-02]],\n",
       "\n",
       "          [[-2.6896e-03,  2.1575e-02, -4.7409e-03,  ...,  1.4896e-02,\n",
       "            -4.0288e-03,  4.0004e-02]],\n",
       "\n",
       "          ...,\n",
       "\n",
       "          [[-3.6461e-02,  1.5530e-03, -3.4879e-03,  ...,  2.6297e-02,\n",
       "             3.7504e-02, -4.1482e-02]],\n",
       "\n",
       "          [[-1.7732e-02,  3.3963e-02,  1.2719e-03,  ...,  5.4030e-03,\n",
       "             1.5081e-03,  2.5892e-02]],\n",
       "\n",
       "          [[ 3.2228e-02, -3.1953e-02,  5.1271e-02,  ..., -4.4212e-02,\n",
       "            -1.4154e-02,  8.3899e-02]]]]], grad_fn=<StackBackward>), tensor([[[[[ 1.0688, -0.2220, -0.0170,  ...,  0.4777,  0.6015, -0.2262]],\n",
       "\n",
       "          [[-0.1317, -0.0811,  0.0724,  ..., -0.0157, -0.5190, -0.1440]],\n",
       "\n",
       "          [[ 0.1933,  0.0967,  0.9068,  ..., -0.3154,  0.2254, -0.2967]],\n",
       "\n",
       "          ...,\n",
       "\n",
       "          [[-0.1983, -0.0635, -0.2622,  ...,  0.1092,  0.0295,  0.0633]],\n",
       "\n",
       "          [[-0.1425, -1.4559,  0.1099,  ..., -0.0982,  0.0083,  0.4658]],\n",
       "\n",
       "          [[ 0.1294,  0.1043, -0.0157,  ...,  0.6283, -0.0377,  0.0569]]]],\n",
       "\n",
       "\n",
       "\n",
       "        [[[[-0.0543,  0.0073, -0.0196,  ...,  0.0093, -0.0157,  0.0205]],\n",
       "\n",
       "          [[-0.0021,  0.0018, -0.0381,  ...,  0.0086,  0.0101,  0.0159]],\n",
       "\n",
       "          [[ 0.0247, -0.0587,  0.0649,  ...,  0.0079, -0.0029, -0.0620]],\n",
       "\n",
       "          ...,\n",
       "\n",
       "          [[ 0.0316, -0.0254,  0.0016,  ..., -0.0213, -0.0333, -0.0431]],\n",
       "\n",
       "          [[-0.2685,  0.0054, -0.0029,  ..., -0.0073,  0.0108, -0.0285]],\n",
       "\n",
       "          [[ 0.0326,  0.0059,  0.0090,  ...,  0.0258, -0.0446, -0.0361]]]]],\n",
       "       grad_fn=<StackBackward>), tensor([[[[[ 2.8275e-02, -2.5036e-01, -5.7020e-01,  ...,  2.0152e-01,\n",
       "             4.3715e-01,  3.6479e-01]],\n",
       "\n",
       "          [[-1.8259e-01, -3.4220e-02,  6.9211e-02,  ...,  5.5194e-03,\n",
       "            -9.7717e-01, -1.2495e-01]],\n",
       "\n",
       "          [[-9.9363e-01,  2.9759e-02,  4.7873e-01,  ..., -6.6997e-01,\n",
       "             3.7363e-01, -7.5652e-02]],\n",
       "\n",
       "          ...,\n",
       "\n",
       "          [[ 9.1803e-01, -8.7496e-01, -3.7957e-01,  ..., -8.8851e-01,\n",
       "            -4.5756e-01,  5.9105e-01]],\n",
       "\n",
       "          [[-7.3424e-01,  2.4142e+00,  3.3927e-01,  ...,  1.9669e-01,\n",
       "             1.9259e+00, -4.7356e-01]],\n",
       "\n",
       "          [[-1.7890e+00, -2.8418e-01, -1.0484e+00,  ..., -4.5871e-01,\n",
       "             1.1882e-01,  2.2397e-01]]]],\n",
       "\n",
       "\n",
       "\n",
       "        [[[[-1.7128e-02, -1.3637e-02,  5.8016e-03,  ..., -5.5624e-03,\n",
       "             6.0158e-03,  3.6263e-02]],\n",
       "\n",
       "          [[-9.9327e-03, -1.2879e-02,  6.7914e-03,  ..., -1.0329e-03,\n",
       "             4.7742e-03,  1.2049e-02]],\n",
       "\n",
       "          [[-1.9127e-02,  1.9038e-02, -4.4644e-03,  ...,  3.1468e-02,\n",
       "             1.2156e-02,  3.7829e-03]],\n",
       "\n",
       "          ...,\n",
       "\n",
       "          [[-1.2414e-02,  9.0259e-03,  5.8412e-02,  ..., -4.5995e-02,\n",
       "             2.2956e-02, -3.7322e-02]],\n",
       "\n",
       "          [[ 3.1295e-03, -3.1043e-02, -3.5946e-02,  ...,  4.7782e-03,\n",
       "            -2.6144e-04, -4.4970e-02]],\n",
       "\n",
       "          [[ 3.8295e-02, -1.7043e-04,  6.7807e-03,  ..., -4.0024e-03,\n",
       "             2.1588e-02, -2.3062e-02]]]]], grad_fn=<StackBackward>), tensor([[[[[-1.6579e+00, -4.1709e-01, -4.3875e-01,  ...,  2.7405e-01,\n",
       "             3.6171e-01, -4.7973e-01]],\n",
       "\n",
       "          [[ 5.0198e-02, -1.6316e-01,  1.9529e+00,  ...,  2.6551e-01,\n",
       "             8.6359e-02, -2.3332e-01]],\n",
       "\n",
       "          [[ 2.2435e-02,  8.7490e-01,  5.1046e-01,  ..., -5.5143e-01,\n",
       "             2.7757e-01, -7.8125e-02]],\n",
       "\n",
       "          ...,\n",
       "\n",
       "          [[ 6.7649e-01,  9.7707e-01, -9.6822e-01,  ..., -7.1412e-01,\n",
       "             6.3962e-01,  8.7443e-01]],\n",
       "\n",
       "          [[-3.6245e-01,  3.3038e-01,  7.9786e-01,  ...,  5.3690e-01,\n",
       "            -1.7183e-01, -2.9042e-01]],\n",
       "\n",
       "          [[-7.0979e-01, -1.6790e-01,  3.7667e-01,  ...,  2.7615e-02,\n",
       "             4.9206e-02,  4.9705e-02]]]],\n",
       "\n",
       "\n",
       "\n",
       "        [[[[-1.0481e-01, -6.4841e-02,  2.7499e-02,  ...,  3.9305e-02,\n",
       "             3.1989e-02, -5.3106e-02]],\n",
       "\n",
       "          [[-1.6339e-02, -2.4924e-02, -6.0930e-02,  ..., -7.1423e-02,\n",
       "            -4.2017e-02, -1.5017e-02]],\n",
       "\n",
       "          [[-5.7384e-02,  6.3443e-02,  4.3404e-02,  ..., -6.8531e-03,\n",
       "             1.9005e-02,  7.6147e-02]],\n",
       "\n",
       "          ...,\n",
       "\n",
       "          [[-4.3147e-02, -2.5420e-02, -1.0438e-01,  ..., -2.1259e-02,\n",
       "             4.3339e-02, -8.2196e-02]],\n",
       "\n",
       "          [[ 3.1343e-03,  1.0897e-02,  7.8153e-03,  ..., -2.0420e-02,\n",
       "             1.0722e-02, -2.4953e-02]],\n",
       "\n",
       "          [[-4.6938e-02,  1.0519e-02,  3.9600e-02,  ..., -6.1768e-02,\n",
       "            -2.3500e-02,  1.8732e-03]]]]], grad_fn=<StackBackward>)), hidden_states=None, attentions=None, cross_attentions=None)"
      ]
     },
     "execution_count": 5,
     "metadata": {},
     "output_type": "execute_result"
    }
   ],
   "source": [
    "output\n"
   ]
  },
  {
   "cell_type": "code",
   "execution_count": null,
   "metadata": {},
   "outputs": [],
   "source": []
  }
 ],
 "metadata": {
  "kernelspec": {
   "display_name": "Python 3",
   "language": "python",
   "name": "python3"
  },
  "language_info": {
   "codemirror_mode": {
    "name": "ipython",
    "version": 3
   },
   "file_extension": ".py",
   "mimetype": "text/x-python",
   "name": "python",
   "nbconvert_exporter": "python",
   "pygments_lexer": "ipython3",
   "version": "3.8.3"
  }
 },
 "nbformat": 4,
 "nbformat_minor": 4
}
