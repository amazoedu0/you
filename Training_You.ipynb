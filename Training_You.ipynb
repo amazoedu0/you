{
  "nbformat": 4,
  "nbformat_minor": 0,
  "metadata": {
    "colab": {
      "name": "Training You",
      "provenance": [],
      "collapsed_sections": [],
      "authorship_tag": "ABX9TyNe9hEoINu7pYFh2rAoCj2k",
      "include_colab_link": true
    },
    "kernelspec": {
      "name": "python3",
      "display_name": "Python 3"
    },
    "accelerator": "GPU"
  },
  "cells": [
    {
      "cell_type": "markdown",
      "metadata": {
        "id": "view-in-github",
        "colab_type": "text"
      },
      "source": [
        "<a href=\"https://colab.research.google.com/github/nuwandavek/you/blob/master/Training_You.ipynb\" target=\"_parent\"><img src=\"https://colab.research.google.com/assets/colab-badge.svg\" alt=\"Open In Colab\"/></a>"
      ]
    },
    {
      "cell_type": "markdown",
      "metadata": {
        "id": "Rm5EzwNPr8w0"
      },
      "source": [
        "## Setup"
      ]
    },
    {
      "cell_type": "markdown",
      "metadata": {
        "id": "lTGlWqio-jFO"
      },
      "source": [
        "First, connect to a GPU runtime via Edit->Notebook Settings and select GPU as the hardare accelerator. Then, run the block below to install the libraries required to fine-tune DistilGPT2 on your WhatsApp history."
      ]
    },
    {
      "cell_type": "code",
      "metadata": {
        "cellView": "form",
        "id": "vTVbuOL6Xsx3"
      },
      "source": [
        "#@title Install libraries\n",
        "!pip install transformers\n",
        "!git clone https://github.com/huggingface/transformers.git\n",
        "!pip install ./transformers\n",
        "!pip install -r ./transformers/examples/language-modeling/requirements.txt\n",
        "!mkdir output"
      ],
      "execution_count": null,
      "outputs": []
    },
    {
      "cell_type": "markdown",
      "metadata": {
        "id": "Rb6HmORjsKtw"
      },
      "source": [
        "## Upload files for training"
      ]
    },
    {
      "cell_type": "markdown",
      "metadata": {
        "id": "V8zKaOmC_M2x"
      },
      "source": [
        "In order to train the model on your chat history, first export your chat history in the form of txt files (instructions [here](https://faq.whatsapp.com/android/chats/how-to-save-your-chat-history/?lang=en)). Then, run the following block and upload all your txt files."
      ]
    },
    {
      "cell_type": "code",
      "metadata": {
        "id": "Vfrb4h88z_mf"
      },
      "source": [
        "#@title Upload WhatsApp history files\n",
        "import re\n",
        "\n",
        "def RemoveTimestamps(text):\n",
        "  return re.sub(b'\\d+/\\d+/\\d+.*-\\ ', b'', text)\n",
        "\n",
        "def UnicodeString(bytes_string):\n",
        "  return bytes_string.decode('utf-8')\n",
        "\n",
        "def AddSeparators(file_text):\n",
        "  return b'#\\n'.join(file_text.split(b'\\n'))\n",
        "\n",
        "CHUNK_LENGTH = 500\n",
        "def ChunkFile(file_text):\n",
        "  lines = file_text.split(b'\\n')\n",
        "  chunks = []\n",
        "  for line_index in range(0, len(lines), CHUNK_LENGTH):\n",
        "    chunk = b'\\n'.join(lines[line_index:line_index+CHUNK_LENGTH])\n",
        "    chunk += b'<|endoftext|>'\n",
        "    chunks.append(chunk)\n",
        "  return chunks\n",
        "\n",
        "from itertools import chain\n",
        "import random\n",
        "def MixChunks(chunked_files):\n",
        "  all_chunks = [chunk for chunked_file in chunked_files for chunk in chunked_file]\n",
        "  random.shuffle(all_chunks)\n",
        "  return all_chunks\n",
        "\n",
        "def ConvertChunksToString(chunks):\n",
        "  return b'\\n'.join(chunks)\n",
        "\n",
        "def GetShuffledAndCleanedTextFromFiles(file_contents):\n",
        "  file_chunks = []\n",
        "  for file_content in file_contents:\n",
        "    file_chunks.append(ChunkFile(AddSeparators(RemoveTimestamps(file_content))))\n",
        "  return ConvertChunksToString(MixChunks(file_chunks))\n",
        "\n",
        "import random\n",
        "\n",
        "def SampleTextFromFile(file):\n",
        "  file_contents = open(file).readlines()\n",
        "  begin = random.randint(0, len(file_contents) - 50)\n",
        "  for line in file_contents[begin:begin+50]:\n",
        "    print(line, end='')\n",
        "\n",
        "from google.colab import files\n",
        "uploaded_files = files.upload()"
      ],
      "execution_count": 2,
      "outputs": []
    },
    {
      "cell_type": "markdown",
      "metadata": {
        "id": "Aw8e-Hr_gWB_"
      },
      "source": [
        "## Construct training data"
      ]
    },
    {
      "cell_type": "markdown",
      "metadata": {
        "id": "iOh8A-VNgh2P"
      },
      "source": [
        "Next, we clean up the data and prep it for training."
      ]
    },
    {
      "cell_type": "code",
      "metadata": {
        "id": "cDPYjntwb2US"
      },
      "source": [
        "cleaned_text = GetShuffledAndCleanedTextFromFiles(uploaded_files.values())\n",
        "data_file = open('data.txt', 'wb')\n",
        "data_file.write(cleaned_text)\n",
        "data_file.close()\n",
        "num_lines = cleaned_text.count(b'\\n')\n",
        "test_size = int(0.1 * num_lines)\n",
        "train_size = num_lines - test_size\n",
        "data_file.close()\n",
        "!tail -n {test_size} data.txt > test.txt\n",
        "!head -n {train_size} data.txt > train.txt"
      ],
      "execution_count": 4,
      "outputs": []
    },
    {
      "cell_type": "markdown",
      "metadata": {
        "id": "4QyQGDQ8gmlR"
      },
      "source": [
        "We can sample chunks from the training data file to inspect it. Note that a '#' token has been added at the ends of messages, and a <|endoftext|> token delineates different chat files."
      ]
    },
    {
      "cell_type": "code",
      "metadata": {
        "colab": {
          "base_uri": "https://localhost:8080/"
        },
        "id": "ejxPLIfHIMuy",
        "outputId": "1c86cef4-498d-4b45-8d69-1fdb3dc3d143"
      },
      "source": [
        "SampleTextFromFile('train.txt')"
      ],
      "execution_count": 18,
      "outputs": [
        {
          "output_type": "stream",
          "text": [
            "Vivek: Can transfer after one hour of adding#\n",
            "Vivek: What verification thing?#\n",
            "Sreejith2: The bank account should have 40 lakhs thing#\n",
            "Sreejith2: Keep it and transfer after no?#\n",
            "Vivek: Yoyo all that is over \\m/#\n",
            "Sreejith2: Wooh!#\n",
            "Sreejith2: Peace peace#\n",
            "Vivek: That was required before visa#\n",
            "Sreejith2: Transfer off then#\n",
            "Vivek: Now peacemax#\n",
            "Vivek: 😅#\n",
            "Vivek: Yoyoyo#\n",
            "Sreejith2: Hahaha nice nice!#\n",
            "Vivek: What plans today?#\n",
            "Vivek: Free for a call?#\n",
            "Sreejith2: Hey, no plans as such#\n",
            "Sreejith2: Yo in 5 mins#\n",
            "Vivek: Yoyo#\n",
            "Vivek: Ping me#\n",
            "Sreejith2: Haan#\n",
            "Vivek: Eyo#\n",
            "Vivek: I sent 1000 rs#\n",
            "Vivek: Got that?#\n",
            "Vivek: Once you confirm I'll transfer the rest#\n",
            "Sreejith2: Hey got#\n",
            "Sreejith2: Got 1k#\n",
            "Vivek: Yoyoyo#<|endoftext|>\n",
            "Himaya: hope I have a good day#\n",
            "Mihir London: https://player.vimeo.com/video/427943452#\n",
            "Mihir London: Wtf#\n",
            "Sreejith2: Wow that's amazing 🤯#\n",
            "Rishi Amreeka: https://youtu.be/fZSFNUT6iY8#\n",
            "Rishi Amreeka: Have you guys seen this one?#\n",
            "Rishi Amreeka: Pretty insane#\n",
            "Sreejith2: Wow, wtf!#\n",
            "Sreejith2: Bet this would win pioneer easy 😅#\n",
            "Vivek: Are we playing tomorrow?#\n",
            "Vivek: :)#\n",
            "Vivek: Wtfffff#\n",
            "Vikrant London: They also released an API yesterday https://beta.openai.com/#\n",
            "Vivek: Yeah, I saw this.#\n",
            "Vikrant London: I'm down 👻#\n",
            "Rishi Amreeka: I won't be able to make it in the for the first 4 hours#\n",
            "Vivek: Whats the start time?#\n",
            "Vivek: Also I've to do some work in the morning. Shall we start at 11am ish? Like last week?#\n",
            "Vivek: Sreejith wakes up at that time too I think#\n",
            "Sreejith2: Works#\n",
            "Sreejith2: 11:30 pm indian time iiuc#\n",
            "Sreejith2: What time can you make it?#\n",
            "Vikrant London: I dreamt about you, and in my dream you said the same thing#\n"
          ],
          "name": "stdout"
        }
      ]
    },
    {
      "cell_type": "markdown",
      "metadata": {
        "id": "xQYhEC7-uRZ6"
      },
      "source": [
        "## Train model"
      ]
    },
    {
      "cell_type": "markdown",
      "metadata": {
        "id": "CrWK0ONLhcqT"
      },
      "source": [
        "Next, we fine-tune the DistilGPT2 model on our training data. Depending on how many files you uploaded, this could take between 5-30 minutes."
      ]
    },
    {
      "cell_type": "code",
      "metadata": {
        "colab": {
          "base_uri": "https://localhost:8080/"
        },
        "id": "x8KUxgU6_mjl",
        "outputId": "639687b7-9586-4f33-a983-5124a985a64b"
      },
      "source": [
        "!python ./transformers/examples/language-modeling/run_clm.py --model_name_or_path distilgpt2 --train_file train.txt --validation_file test.txt --do_train --do_eval --output_dir ./output --per_gpu_train_batch_size 1 --per_gpu_eval_batch_size 1 --save_steps 800 --eval_steps 800 --logging_steps 800 --evaluation_strategy steps --overwrite_output_dir --block_size 256"
      ],
      "execution_count": 8,
      "outputs": [
        {
          "output_type": "stream",
          "text": [
            "2021-01-04 07:31:30.298503: I tensorflow/stream_executor/platform/default/dso_loader.cc:49] Successfully opened dynamic library libcudart.so.10.1\n",
            "01/04/2021 07:31:32 - WARNING - __main__ -   Process rank: -1, device: cuda:0, n_gpu: 1distributed training: False, 16-bits training: False\n",
            "01/04/2021 07:31:32 - INFO - __main__ -   Training/evaluation parameters TrainingArguments(output_dir=./output, overwrite_output_dir=True, do_train=True, do_eval=True, do_predict=False, model_parallel=False, evaluation_strategy=EvaluationStrategy.STEPS, prediction_loss_only=False, per_device_train_batch_size=8, per_device_eval_batch_size=8, gradient_accumulation_steps=1, eval_accumulation_steps=None, learning_rate=5e-05, weight_decay=0.0, adam_beta1=0.9, adam_beta2=0.999, adam_epsilon=1e-08, max_grad_norm=1.0, num_train_epochs=3.0, max_steps=-1, lr_scheduler_type=SchedulerType.LINEAR, warmup_steps=0, logging_dir=runs/Jan04_07-31-32_60e0f3253a8c, logging_first_step=False, logging_steps=800, save_steps=800, save_total_limit=None, no_cuda=False, seed=42, fp16=False, fp16_opt_level=O1, local_rank=-1, tpu_num_cores=None, tpu_metrics_debug=False, debug=False, dataloader_drop_last=False, eval_steps=800, dataloader_num_workers=0, past_index=-1, run_name=./output, disable_tqdm=False, remove_unused_columns=True, label_names=None, load_best_model_at_end=False, metric_for_best_model=None, greater_is_better=None, ignore_data_skip=False, fp16_backend=auto, sharded_ddp=False, label_smoothing_factor=0.0, adafactor=False)\n",
            "Downloading: 2.57kB [00:00, 3.21MB/s]       \n",
            "Using custom data configuration default\n",
            "Downloading and preparing dataset text/default-afc9f2b369f14147 (download: Unknown size, generated: Unknown size, post-processed: Unknown size, total: Unknown size) to /root/.cache/huggingface/datasets/text/default-afc9f2b369f14147/0.0.0/daf90a707a433ac193b369c8cc1772139bb6cca21a9c7fe83bdd16aad9b9b6ab...\n",
            "Dataset text downloaded and prepared to /root/.cache/huggingface/datasets/text/default-afc9f2b369f14147/0.0.0/daf90a707a433ac193b369c8cc1772139bb6cca21a9c7fe83bdd16aad9b9b6ab. Subsequent calls will reuse this data.\n",
            "01/04/2021 07:31:33 - INFO - filelock -   Lock 139886831465752 acquired on /root/.cache/huggingface/transformers/f985248d2791fcff97732e4ee263617adec1edb5429a2b8421734c6d14e39bee.422318838d1ec4e061efb4ea29671cb2a044e244dc69229682bebd7cacc81631.lock\n",
            "[INFO|file_utils.py:1301] 2021-01-04 07:31:33,099 >> https://huggingface.co/distilgpt2/resolve/main/config.json not found in cache or force_download set to True, downloading to /root/.cache/huggingface/transformers/tmp5yt6esck\n",
            "Downloading: 100% 762/762 [00:00<00:00, 1.02MB/s]\n",
            "[INFO|file_utils.py:1305] 2021-01-04 07:31:33,115 >> storing https://huggingface.co/distilgpt2/resolve/main/config.json in cache at /root/.cache/huggingface/transformers/f985248d2791fcff97732e4ee263617adec1edb5429a2b8421734c6d14e39bee.422318838d1ec4e061efb4ea29671cb2a044e244dc69229682bebd7cacc81631\n",
            "[INFO|file_utils.py:1308] 2021-01-04 07:31:33,115 >> creating metadata file for /root/.cache/huggingface/transformers/f985248d2791fcff97732e4ee263617adec1edb5429a2b8421734c6d14e39bee.422318838d1ec4e061efb4ea29671cb2a044e244dc69229682bebd7cacc81631\n",
            "01/04/2021 07:31:33 - INFO - filelock -   Lock 139886831465752 released on /root/.cache/huggingface/transformers/f985248d2791fcff97732e4ee263617adec1edb5429a2b8421734c6d14e39bee.422318838d1ec4e061efb4ea29671cb2a044e244dc69229682bebd7cacc81631.lock\n",
            "[INFO|configuration_utils.py:431] 2021-01-04 07:31:33,115 >> loading configuration file https://huggingface.co/distilgpt2/resolve/main/config.json from cache at /root/.cache/huggingface/transformers/f985248d2791fcff97732e4ee263617adec1edb5429a2b8421734c6d14e39bee.422318838d1ec4e061efb4ea29671cb2a044e244dc69229682bebd7cacc81631\n",
            "[INFO|configuration_utils.py:467] 2021-01-04 07:31:33,116 >> Model config GPT2Config {\n",
            "  \"_num_labels\": 1,\n",
            "  \"activation_function\": \"gelu_new\",\n",
            "  \"architectures\": [\n",
            "    \"GPT2LMHeadModel\"\n",
            "  ],\n",
            "  \"attn_pdrop\": 0.1,\n",
            "  \"bos_token_id\": 50256,\n",
            "  \"embd_pdrop\": 0.1,\n",
            "  \"eos_token_id\": 50256,\n",
            "  \"gradient_checkpointing\": false,\n",
            "  \"id2label\": {\n",
            "    \"0\": \"LABEL_0\"\n",
            "  },\n",
            "  \"initializer_range\": 0.02,\n",
            "  \"label2id\": {\n",
            "    \"LABEL_0\": 0\n",
            "  },\n",
            "  \"layer_norm_epsilon\": 1e-05,\n",
            "  \"model_type\": \"gpt2\",\n",
            "  \"n_ctx\": 1024,\n",
            "  \"n_embd\": 768,\n",
            "  \"n_head\": 12,\n",
            "  \"n_inner\": null,\n",
            "  \"n_layer\": 6,\n",
            "  \"n_positions\": 1024,\n",
            "  \"resid_pdrop\": 0.1,\n",
            "  \"summary_activation\": null,\n",
            "  \"summary_first_dropout\": 0.1,\n",
            "  \"summary_proj_to_labels\": true,\n",
            "  \"summary_type\": \"cls_index\",\n",
            "  \"summary_use_proj\": true,\n",
            "  \"task_specific_params\": {\n",
            "    \"text-generation\": {\n",
            "      \"do_sample\": true,\n",
            "      \"max_length\": 50\n",
            "    }\n",
            "  },\n",
            "  \"use_cache\": true,\n",
            "  \"vocab_size\": 50257\n",
            "}\n",
            "\n",
            "[INFO|configuration_utils.py:431] 2021-01-04 07:31:33,133 >> loading configuration file https://huggingface.co/distilgpt2/resolve/main/config.json from cache at /root/.cache/huggingface/transformers/f985248d2791fcff97732e4ee263617adec1edb5429a2b8421734c6d14e39bee.422318838d1ec4e061efb4ea29671cb2a044e244dc69229682bebd7cacc81631\n",
            "[INFO|configuration_utils.py:467] 2021-01-04 07:31:33,134 >> Model config GPT2Config {\n",
            "  \"_num_labels\": 1,\n",
            "  \"activation_function\": \"gelu_new\",\n",
            "  \"architectures\": [\n",
            "    \"GPT2LMHeadModel\"\n",
            "  ],\n",
            "  \"attn_pdrop\": 0.1,\n",
            "  \"bos_token_id\": 50256,\n",
            "  \"embd_pdrop\": 0.1,\n",
            "  \"eos_token_id\": 50256,\n",
            "  \"gradient_checkpointing\": false,\n",
            "  \"id2label\": {\n",
            "    \"0\": \"LABEL_0\"\n",
            "  },\n",
            "  \"initializer_range\": 0.02,\n",
            "  \"label2id\": {\n",
            "    \"LABEL_0\": 0\n",
            "  },\n",
            "  \"layer_norm_epsilon\": 1e-05,\n",
            "  \"model_type\": \"gpt2\",\n",
            "  \"n_ctx\": 1024,\n",
            "  \"n_embd\": 768,\n",
            "  \"n_head\": 12,\n",
            "  \"n_inner\": null,\n",
            "  \"n_layer\": 6,\n",
            "  \"n_positions\": 1024,\n",
            "  \"resid_pdrop\": 0.1,\n",
            "  \"summary_activation\": null,\n",
            "  \"summary_first_dropout\": 0.1,\n",
            "  \"summary_proj_to_labels\": true,\n",
            "  \"summary_type\": \"cls_index\",\n",
            "  \"summary_use_proj\": true,\n",
            "  \"task_specific_params\": {\n",
            "    \"text-generation\": {\n",
            "      \"do_sample\": true,\n",
            "      \"max_length\": 50\n",
            "    }\n",
            "  },\n",
            "  \"use_cache\": true,\n",
            "  \"vocab_size\": 50257\n",
            "}\n",
            "\n",
            "01/04/2021 07:31:33 - INFO - filelock -   Lock 139883893078952 acquired on /root/.cache/huggingface/transformers/55051ac97dcc32f0a736d21a32a4d42b0d9b90f117ca7c38e65038b04bd5c3f5.c7ed1f96aac49e745788faa77ba0a26a392643a50bb388b9c04ff469e555241f.lock\n",
            "[INFO|file_utils.py:1301] 2021-01-04 07:31:33,157 >> https://huggingface.co/distilgpt2/resolve/main/vocab.json not found in cache or force_download set to True, downloading to /root/.cache/huggingface/transformers/tmpua3l42r1\n",
            "Downloading: 100% 1.04M/1.04M [00:00<00:00, 35.8MB/s]\n",
            "[INFO|file_utils.py:1305] 2021-01-04 07:31:33,209 >> storing https://huggingface.co/distilgpt2/resolve/main/vocab.json in cache at /root/.cache/huggingface/transformers/55051ac97dcc32f0a736d21a32a4d42b0d9b90f117ca7c38e65038b04bd5c3f5.c7ed1f96aac49e745788faa77ba0a26a392643a50bb388b9c04ff469e555241f\n",
            "[INFO|file_utils.py:1308] 2021-01-04 07:31:33,209 >> creating metadata file for /root/.cache/huggingface/transformers/55051ac97dcc32f0a736d21a32a4d42b0d9b90f117ca7c38e65038b04bd5c3f5.c7ed1f96aac49e745788faa77ba0a26a392643a50bb388b9c04ff469e555241f\n",
            "01/04/2021 07:31:33 - INFO - filelock -   Lock 139883893078952 released on /root/.cache/huggingface/transformers/55051ac97dcc32f0a736d21a32a4d42b0d9b90f117ca7c38e65038b04bd5c3f5.c7ed1f96aac49e745788faa77ba0a26a392643a50bb388b9c04ff469e555241f.lock\n",
            "01/04/2021 07:31:33 - INFO - filelock -   Lock 139883893078952 acquired on /root/.cache/huggingface/transformers/9dfb299b74cdf7601ba7cd3a8073dbdac351caec0ed7ab5849b098b3c8ae3d57.5d12962c5ee615a4c803841266e9c3be9a691a924f72d395d3a6c6c81157788b.lock\n",
            "[INFO|file_utils.py:1301] 2021-01-04 07:31:33,230 >> https://huggingface.co/distilgpt2/resolve/main/merges.txt not found in cache or force_download set to True, downloading to /root/.cache/huggingface/transformers/tmpteyb_8yd\n",
            "Downloading: 100% 456k/456k [00:00<00:00, 21.9MB/s]\n",
            "[INFO|file_utils.py:1305] 2021-01-04 07:31:33,272 >> storing https://huggingface.co/distilgpt2/resolve/main/merges.txt in cache at /root/.cache/huggingface/transformers/9dfb299b74cdf7601ba7cd3a8073dbdac351caec0ed7ab5849b098b3c8ae3d57.5d12962c5ee615a4c803841266e9c3be9a691a924f72d395d3a6c6c81157788b\n",
            "[INFO|file_utils.py:1308] 2021-01-04 07:31:33,272 >> creating metadata file for /root/.cache/huggingface/transformers/9dfb299b74cdf7601ba7cd3a8073dbdac351caec0ed7ab5849b098b3c8ae3d57.5d12962c5ee615a4c803841266e9c3be9a691a924f72d395d3a6c6c81157788b\n",
            "01/04/2021 07:31:33 - INFO - filelock -   Lock 139883893078952 released on /root/.cache/huggingface/transformers/9dfb299b74cdf7601ba7cd3a8073dbdac351caec0ed7ab5849b098b3c8ae3d57.5d12962c5ee615a4c803841266e9c3be9a691a924f72d395d3a6c6c81157788b.lock\n",
            "01/04/2021 07:31:33 - INFO - filelock -   Lock 139883893340928 acquired on /root/.cache/huggingface/transformers/accb287b5a5396b2597382916b6cc939fdab1366e89475a92338d3971b3d02b7.cf2d0ecb83b6df91b3dbb53f1d1e4c311578bfd3aa0e04934215a49bf9898df0.lock\n",
            "[INFO|file_utils.py:1301] 2021-01-04 07:31:33,301 >> https://huggingface.co/distilgpt2/resolve/main/tokenizer.json not found in cache or force_download set to True, downloading to /root/.cache/huggingface/transformers/tmpkc9gspy1\n",
            "Downloading: 100% 1.36M/1.36M [00:00<00:00, 45.7MB/s]\n",
            "[INFO|file_utils.py:1305] 2021-01-04 07:31:33,357 >> storing https://huggingface.co/distilgpt2/resolve/main/tokenizer.json in cache at /root/.cache/huggingface/transformers/accb287b5a5396b2597382916b6cc939fdab1366e89475a92338d3971b3d02b7.cf2d0ecb83b6df91b3dbb53f1d1e4c311578bfd3aa0e04934215a49bf9898df0\n",
            "[INFO|file_utils.py:1308] 2021-01-04 07:31:33,357 >> creating metadata file for /root/.cache/huggingface/transformers/accb287b5a5396b2597382916b6cc939fdab1366e89475a92338d3971b3d02b7.cf2d0ecb83b6df91b3dbb53f1d1e4c311578bfd3aa0e04934215a49bf9898df0\n",
            "01/04/2021 07:31:33 - INFO - filelock -   Lock 139883893340928 released on /root/.cache/huggingface/transformers/accb287b5a5396b2597382916b6cc939fdab1366e89475a92338d3971b3d02b7.cf2d0ecb83b6df91b3dbb53f1d1e4c311578bfd3aa0e04934215a49bf9898df0.lock\n",
            "[INFO|tokenization_utils_base.py:1802] 2021-01-04 07:31:33,357 >> loading file https://huggingface.co/distilgpt2/resolve/main/vocab.json from cache at /root/.cache/huggingface/transformers/55051ac97dcc32f0a736d21a32a4d42b0d9b90f117ca7c38e65038b04bd5c3f5.c7ed1f96aac49e745788faa77ba0a26a392643a50bb388b9c04ff469e555241f\n",
            "[INFO|tokenization_utils_base.py:1802] 2021-01-04 07:31:33,357 >> loading file https://huggingface.co/distilgpt2/resolve/main/merges.txt from cache at /root/.cache/huggingface/transformers/9dfb299b74cdf7601ba7cd3a8073dbdac351caec0ed7ab5849b098b3c8ae3d57.5d12962c5ee615a4c803841266e9c3be9a691a924f72d395d3a6c6c81157788b\n",
            "[INFO|tokenization_utils_base.py:1802] 2021-01-04 07:31:33,358 >> loading file https://huggingface.co/distilgpt2/resolve/main/tokenizer.json from cache at /root/.cache/huggingface/transformers/accb287b5a5396b2597382916b6cc939fdab1366e89475a92338d3971b3d02b7.cf2d0ecb83b6df91b3dbb53f1d1e4c311578bfd3aa0e04934215a49bf9898df0\n",
            "01/04/2021 07:31:33 - INFO - filelock -   Lock 139883904736504 acquired on /root/.cache/huggingface/transformers/43a212e83e76bcb07f45be584cf100676bdbbbe9c13f9e5c1c050049143a832f.a83d881ec4d624fd4b5826dd026e315246c48c67504ff91c0500570e291a54ba.lock\n",
            "[INFO|file_utils.py:1301] 2021-01-04 07:31:33,437 >> https://huggingface.co/distilgpt2/resolve/main/pytorch_model.bin not found in cache or force_download set to True, downloading to /root/.cache/huggingface/transformers/tmpjlc9m2lx\n",
            "Downloading: 100% 353M/353M [00:04<00:00, 82.9MB/s]\n",
            "[INFO|file_utils.py:1305] 2021-01-04 07:31:37,801 >> storing https://huggingface.co/distilgpt2/resolve/main/pytorch_model.bin in cache at /root/.cache/huggingface/transformers/43a212e83e76bcb07f45be584cf100676bdbbbe9c13f9e5c1c050049143a832f.a83d881ec4d624fd4b5826dd026e315246c48c67504ff91c0500570e291a54ba\n",
            "[INFO|file_utils.py:1308] 2021-01-04 07:31:37,801 >> creating metadata file for /root/.cache/huggingface/transformers/43a212e83e76bcb07f45be584cf100676bdbbbe9c13f9e5c1c050049143a832f.a83d881ec4d624fd4b5826dd026e315246c48c67504ff91c0500570e291a54ba\n",
            "01/04/2021 07:31:37 - INFO - filelock -   Lock 139883904736504 released on /root/.cache/huggingface/transformers/43a212e83e76bcb07f45be584cf100676bdbbbe9c13f9e5c1c050049143a832f.a83d881ec4d624fd4b5826dd026e315246c48c67504ff91c0500570e291a54ba.lock\n",
            "[INFO|modeling_utils.py:1024] 2021-01-04 07:31:37,802 >> loading weights file https://huggingface.co/distilgpt2/resolve/main/pytorch_model.bin from cache at /root/.cache/huggingface/transformers/43a212e83e76bcb07f45be584cf100676bdbbbe9c13f9e5c1c050049143a832f.a83d881ec4d624fd4b5826dd026e315246c48c67504ff91c0500570e291a54ba\n",
            "[INFO|modeling_utils.py:1140] 2021-01-04 07:31:41,327 >> All model checkpoint weights were used when initializing GPT2LMHeadModel.\n",
            "\n",
            "[INFO|modeling_utils.py:1149] 2021-01-04 07:31:41,327 >> All the weights of GPT2LMHeadModel were initialized from the model checkpoint at distilgpt2.\n",
            "If your task is similar to the task the model of the checkpoint was trained on, you can already use GPT2LMHeadModel for predictions without further training.\n",
            "100% 31/31 [00:00<00:00, 37.56ba/s]\n",
            "100% 4/4 [00:00<00:00, 41.05ba/s]\n",
            "100% 31/31 [00:01<00:00, 19.72ba/s]\n",
            "100% 4/4 [00:00<00:00, 24.44ba/s]\n",
            "[INFO|trainer.py:395] 2021-01-04 07:31:58,344 >> The following columns in the training set don't have a corresponding argument in `GPT2LMHeadModel.forward` and have been ignored: .\n",
            "[INFO|trainer.py:395] 2021-01-04 07:31:58,345 >> The following columns in the evaluation set don't have a corresponding argument in `GPT2LMHeadModel.forward` and have been ignored: .\n",
            "[WARNING|training_args.py:450] 2021-01-04 07:31:58,345 >> Using deprecated `--per_gpu_train_batch_size` argument which will be removed in a future version. Using `--per_device_train_batch_size` is preferred.\n",
            "[WARNING|training_args.py:450] 2021-01-04 07:31:58,347 >> Using deprecated `--per_gpu_train_batch_size` argument which will be removed in a future version. Using `--per_device_train_batch_size` is preferred.\n",
            "[INFO|trainer.py:718] 2021-01-04 07:31:58,347 >> ***** Running training *****\n",
            "[INFO|trainer.py:719] 2021-01-04 07:31:58,347 >>   Num examples = 1487\n",
            "[INFO|trainer.py:720] 2021-01-04 07:31:58,347 >>   Num Epochs = 3\n",
            "[INFO|trainer.py:721] 2021-01-04 07:31:58,347 >>   Instantaneous batch size per device = 8\n",
            "[INFO|trainer.py:722] 2021-01-04 07:31:58,347 >>   Total train batch size (w. parallel, distributed & accumulation) = 1\n",
            "[INFO|trainer.py:723] 2021-01-04 07:31:58,347 >>   Gradient Accumulation steps = 1\n",
            "[INFO|trainer.py:724] 2021-01-04 07:31:58,347 >>   Total optimization steps = 4461\n",
            "[WARNING|training_args.py:450] 2021-01-04 07:31:58,351 >> Using deprecated `--per_gpu_train_batch_size` argument which will be removed in a future version. Using `--per_device_train_batch_size` is preferred.\n",
            "[WARNING|training_args.py:467] 2021-01-04 07:31:58,351 >> Using deprecated `--per_gpu_eval_batch_size` argument which will be removed in a future version. Using `--per_device_eval_batch_size` is preferred.\n",
            "{'loss': 2.688307800292969, 'learning_rate': 4.1033400582828964e-05, 'epoch': 0.5379959650302623}\n",
            " 18% 800/4461 [01:02<04:51, 12.58it/s][WARNING|training_args.py:467] 2021-01-04 07:33:00,759 >> Using deprecated `--per_gpu_eval_batch_size` argument which will be removed in a future version. Using `--per_device_eval_batch_size` is preferred.\n",
            "[INFO|trainer.py:1440] 2021-01-04 07:33:00,760 >> ***** Running Evaluation *****\n",
            "[INFO|trainer.py:1441] 2021-01-04 07:33:00,760 >>   Num examples = 162\n",
            "[INFO|trainer.py:1442] 2021-01-04 07:33:00,760 >>   Batch size = 1\n",
            "\n",
            "  0% 0/162 [00:00<?, ?it/s]\u001b[A\n",
            "  5% 8/162 [00:00<00:02, 76.52it/s]\u001b[A\n",
            "  9% 14/162 [00:00<00:02, 70.22it/s]\u001b[A\n",
            " 13% 21/162 [00:00<00:02, 67.41it/s]\u001b[A\n",
            " 17% 28/162 [00:00<00:02, 65.21it/s]\u001b[A\n",
            " 21% 34/162 [00:00<00:02, 63.06it/s]\u001b[A\n",
            " 25% 41/162 [00:00<00:01, 62.71it/s]\u001b[A\n",
            " 29% 47/162 [00:00<00:01, 61.86it/s]\u001b[A\n",
            " 33% 54/162 [00:00<00:01, 61.41it/s]\u001b[A\n",
            " 37% 60/162 [00:00<00:01, 60.81it/s]\u001b[A\n",
            " 41% 67/162 [00:01<00:01, 61.41it/s]\u001b[A\n",
            " 46% 74/162 [00:01<00:01, 61.27it/s]\u001b[A\n",
            " 50% 81/162 [00:01<00:01, 61.47it/s]\u001b[A\n",
            " 54% 88/162 [00:01<00:01, 61.48it/s]\u001b[A\n",
            " 59% 95/162 [00:01<00:01, 60.90it/s]\u001b[A\n",
            " 63% 102/162 [00:01<00:00, 61.22it/s]\u001b[A\n",
            " 67% 109/162 [00:01<00:00, 59.82it/s]\u001b[A\n",
            " 72% 116/162 [00:01<00:00, 60.10it/s]\u001b[A\n",
            " 75% 122/162 [00:01<00:00, 59.99it/s]\u001b[A\n",
            " 79% 128/162 [00:02<00:00, 59.92it/s]\u001b[A\n",
            " 83% 135/162 [00:02<00:00, 60.48it/s]\u001b[A\n",
            " 88% 142/162 [00:02<00:00, 60.70it/s]\u001b[A\n",
            " 92% 149/162 [00:02<00:00, 60.94it/s]\u001b[A\n",
            "                                      \n",
            "\u001b[A{'eval_loss': 2.510533094406128, 'eval_runtime': 2.6685, 'eval_samples_per_second': 60.708, 'epoch': 0.5379959650302623}\n",
            " 18% 800/4461 [01:05<04:51, 12.58it/s]\n",
            "100% 162/162 [00:02<00:00, 60.56it/s]\u001b[A\n",
            "                                     \u001b[A[INFO|trainer.py:1248] 2021-01-04 07:33:03,429 >> Saving model checkpoint to ./output/checkpoint-800\n",
            "[INFO|configuration_utils.py:289] 2021-01-04 07:33:03,430 >> Configuration saved in ./output/checkpoint-800/config.json\n",
            "[INFO|modeling_utils.py:814] 2021-01-04 07:33:04,463 >> Model weights saved in ./output/checkpoint-800/pytorch_model.bin\n",
            "{'loss': 2.537803192138672, 'learning_rate': 3.2066801165657925e-05, 'epoch': 1.0759919300605245}\n",
            " 36% 1600/4461 [02:13<03:47, 12.55it/s][WARNING|training_args.py:467] 2021-01-04 07:34:11,850 >> Using deprecated `--per_gpu_eval_batch_size` argument which will be removed in a future version. Using `--per_device_eval_batch_size` is preferred.\n",
            "[INFO|trainer.py:1440] 2021-01-04 07:34:11,850 >> ***** Running Evaluation *****\n",
            "[INFO|trainer.py:1441] 2021-01-04 07:34:11,850 >>   Num examples = 162\n",
            "[INFO|trainer.py:1442] 2021-01-04 07:34:11,850 >>   Batch size = 1\n",
            "\n",
            "  0% 0/162 [00:00<?, ?it/s]\u001b[A\n",
            "  5% 8/162 [00:00<00:02, 70.33it/s]\u001b[A\n",
            "  9% 15/162 [00:00<00:02, 68.01it/s]\u001b[A\n",
            " 14% 22/162 [00:00<00:02, 65.46it/s]\u001b[A\n",
            " 17% 28/162 [00:00<00:02, 63.43it/s]\u001b[A\n",
            " 22% 35/162 [00:00<00:02, 62.56it/s]\u001b[A\n",
            " 25% 41/162 [00:00<00:01, 61.23it/s]\u001b[A\n",
            " 29% 47/162 [00:00<00:01, 60.80it/s]\u001b[A\n",
            " 33% 53/162 [00:00<00:01, 60.26it/s]\u001b[A\n",
            " 37% 60/162 [00:00<00:01, 60.41it/s]\u001b[A\n",
            " 41% 67/162 [00:01<00:01, 60.42it/s]\u001b[A\n",
            " 46% 74/162 [00:01<00:01, 60.45it/s]\u001b[A\n",
            " 49% 80/162 [00:01<00:01, 59.34it/s]\u001b[A\n",
            " 54% 87/162 [00:01<00:01, 60.91it/s]\u001b[A\n",
            " 58% 94/162 [00:01<00:01, 60.50it/s]\u001b[A\n",
            " 62% 101/162 [00:01<00:01, 59.98it/s]\u001b[A\n",
            " 67% 108/162 [00:01<00:00, 60.13it/s]\u001b[A\n",
            " 70% 114/162 [00:01<00:00, 59.01it/s]\u001b[A\n",
            " 74% 120/162 [00:01<00:00, 58.90it/s]\u001b[A\n",
            " 78% 126/162 [00:02<00:00, 59.14it/s]\u001b[A\n",
            " 82% 133/162 [00:02<00:00, 59.45it/s]\u001b[A\n",
            " 86% 139/162 [00:02<00:00, 59.46it/s]\u001b[A\n",
            " 90% 146/162 [00:02<00:00, 60.09it/s]\u001b[A\n",
            " 94% 153/162 [00:02<00:00, 59.90it/s]\u001b[A\n",
            "                                       \n",
            "\u001b[A{'eval_loss': 2.4566686153411865, 'eval_runtime': 2.7026, 'eval_samples_per_second': 59.943, 'epoch': 1.0759919300605245}\n",
            " 36% 1600/4461 [02:16<03:47, 12.55it/s]\n",
            "100% 162/162 [00:02<00:00, 59.71it/s]\u001b[A\n",
            "                                     \u001b[A[INFO|trainer.py:1248] 2021-01-04 07:34:14,554 >> Saving model checkpoint to ./output/checkpoint-1600\n",
            "[INFO|configuration_utils.py:289] 2021-01-04 07:34:14,555 >> Configuration saved in ./output/checkpoint-1600/config.json\n",
            "[INFO|modeling_utils.py:814] 2021-01-04 07:34:15,473 >> Model weights saved in ./output/checkpoint-1600/pytorch_model.bin\n",
            "{'loss': 2.3512088012695314, 'learning_rate': 2.3100201748486887e-05, 'epoch': 1.6139878950907867}\n",
            " 54% 2400/4461 [03:24<02:45, 12.42it/s][WARNING|training_args.py:467] 2021-01-04 07:35:22,895 >> Using deprecated `--per_gpu_eval_batch_size` argument which will be removed in a future version. Using `--per_device_eval_batch_size` is preferred.\n",
            "[INFO|trainer.py:1440] 2021-01-04 07:35:22,895 >> ***** Running Evaluation *****\n",
            "[INFO|trainer.py:1441] 2021-01-04 07:35:22,895 >>   Num examples = 162\n",
            "[INFO|trainer.py:1442] 2021-01-04 07:35:22,895 >>   Batch size = 1\n",
            "\n",
            "  0% 0/162 [00:00<?, ?it/s]\u001b[A\n",
            "  5% 8/162 [00:00<00:02, 72.81it/s]\u001b[A\n",
            "  9% 14/162 [00:00<00:02, 67.63it/s]\u001b[A\n",
            " 13% 21/162 [00:00<00:02, 65.57it/s]\u001b[A\n",
            " 17% 27/162 [00:00<00:02, 62.22it/s]\u001b[A\n",
            " 21% 34/162 [00:00<00:02, 62.18it/s]\u001b[A\n",
            " 25% 40/162 [00:00<00:01, 61.40it/s]\u001b[A\n",
            " 28% 46/162 [00:00<00:01, 60.51it/s]\u001b[A\n",
            " 32% 52/162 [00:00<00:01, 59.96it/s]\u001b[A\n",
            " 36% 58/162 [00:00<00:01, 59.28it/s]\u001b[A\n",
            " 40% 65/162 [00:01<00:01, 59.60it/s]\u001b[A\n",
            " 44% 72/162 [00:01<00:01, 60.11it/s]\u001b[A\n",
            " 48% 78/162 [00:01<00:01, 60.07it/s]\u001b[A\n",
            " 52% 84/162 [00:01<00:01, 59.83it/s]\u001b[A\n",
            " 56% 90/162 [00:01<00:01, 59.01it/s]\u001b[A\n",
            " 60% 97/162 [00:01<00:01, 60.02it/s]\u001b[A\n",
            " 64% 103/162 [00:01<00:00, 59.63it/s]\u001b[A\n",
            " 67% 109/162 [00:01<00:00, 59.22it/s]\u001b[A\n",
            " 71% 115/162 [00:01<00:00, 58.28it/s]\u001b[A\n",
            " 75% 121/162 [00:02<00:00, 58.29it/s]\u001b[A\n",
            " 79% 128/162 [00:02<00:00, 59.12it/s]\u001b[A\n",
            " 83% 135/162 [00:02<00:00, 59.49it/s]\u001b[A\n",
            " 88% 142/162 [00:02<00:00, 59.72it/s]\u001b[A\n",
            " 91% 148/162 [00:02<00:00, 59.77it/s]\u001b[A\n",
            " 95% 154/162 [00:02<00:00, 59.76it/s]\u001b[A\n",
            "                                       \n",
            "\u001b[A{'eval_loss': 2.435103178024292, 'eval_runtime': 2.7192, 'eval_samples_per_second': 59.576, 'epoch': 1.6139878950907867}\n",
            " 54% 2400/4461 [03:27<02:45, 12.42it/s]\n",
            "100% 162/162 [00:02<00:00, 60.01it/s]\u001b[A\n",
            "                                     \u001b[A[INFO|trainer.py:1248] 2021-01-04 07:35:25,615 >> Saving model checkpoint to ./output/checkpoint-2400\n",
            "[INFO|configuration_utils.py:289] 2021-01-04 07:35:25,616 >> Configuration saved in ./output/checkpoint-2400/config.json\n",
            "[INFO|modeling_utils.py:814] 2021-01-04 07:35:26,713 >> Model weights saved in ./output/checkpoint-2400/pytorch_model.bin\n",
            "{'loss': 2.310181884765625, 'learning_rate': 1.4133602331315848e-05, 'epoch': 2.151983860121049}\n",
            " 72% 3200/4461 [04:35<01:41, 12.47it/s][WARNING|training_args.py:467] 2021-01-04 07:36:33,877 >> Using deprecated `--per_gpu_eval_batch_size` argument which will be removed in a future version. Using `--per_device_eval_batch_size` is preferred.\n",
            "[INFO|trainer.py:1440] 2021-01-04 07:36:33,877 >> ***** Running Evaluation *****\n",
            "[INFO|trainer.py:1441] 2021-01-04 07:36:33,877 >>   Num examples = 162\n",
            "[INFO|trainer.py:1442] 2021-01-04 07:36:33,877 >>   Batch size = 1\n",
            "\n",
            "  0% 0/162 [00:00<?, ?it/s]\u001b[A\n",
            "  5% 8/162 [00:00<00:02, 71.90it/s]\u001b[A\n",
            "  9% 14/162 [00:00<00:02, 67.46it/s]\u001b[A\n",
            " 13% 21/162 [00:00<00:02, 64.84it/s]\u001b[A\n",
            " 17% 27/162 [00:00<00:02, 62.04it/s]\u001b[A\n",
            " 20% 33/162 [00:00<00:02, 60.88it/s]\u001b[A\n",
            " 24% 39/162 [00:00<00:02, 60.60it/s]\u001b[A\n",
            " 28% 45/162 [00:00<00:01, 59.08it/s]\u001b[A\n",
            " 31% 51/162 [00:00<00:01, 59.32it/s]\u001b[A\n",
            " 35% 57/162 [00:00<00:01, 58.98it/s]\u001b[A\n",
            " 40% 64/162 [00:01<00:01, 59.10it/s]\u001b[A\n",
            " 44% 71/162 [00:01<00:01, 59.61it/s]\u001b[A\n",
            " 48% 77/162 [00:01<00:01, 59.06it/s]\u001b[A\n",
            " 51% 83/162 [00:01<00:01, 58.81it/s]\u001b[A\n",
            " 55% 89/162 [00:01<00:01, 58.68it/s]\u001b[A\n",
            " 59% 96/162 [00:01<00:01, 58.74it/s]\u001b[A\n",
            " 63% 102/162 [00:01<00:01, 58.56it/s]\u001b[A\n",
            " 67% 108/162 [00:01<00:00, 57.91it/s]\u001b[A\n",
            " 71% 115/162 [00:01<00:00, 59.05it/s]\u001b[A\n",
            " 75% 122/162 [00:02<00:00, 59.38it/s]\u001b[A\n",
            " 79% 128/162 [00:02<00:00, 58.86it/s]\u001b[A\n",
            " 83% 134/162 [00:02<00:00, 58.80it/s]\u001b[A\n",
            " 86% 140/162 [00:02<00:00, 58.16it/s]\u001b[A\n",
            " 90% 146/162 [00:02<00:00, 58.56it/s]\u001b[A\n",
            " 94% 152/162 [00:02<00:00, 58.72it/s]\u001b[A\n",
            "                                       \n",
            "\u001b[A{'eval_loss': 2.4298512935638428, 'eval_runtime': 2.7525, 'eval_samples_per_second': 58.856, 'epoch': 2.151983860121049}\n",
            " 72% 3200/4461 [04:38<01:41, 12.47it/s]\n",
            "100% 162/162 [00:02<00:00, 58.86it/s]\u001b[A\n",
            "                                     \u001b[A[INFO|trainer.py:1248] 2021-01-04 07:36:36,631 >> Saving model checkpoint to ./output/checkpoint-3200\n",
            "[INFO|configuration_utils.py:289] 2021-01-04 07:36:36,632 >> Configuration saved in ./output/checkpoint-3200/config.json\n",
            "[INFO|modeling_utils.py:814] 2021-01-04 07:36:37,617 >> Model weights saved in ./output/checkpoint-3200/pytorch_model.bin\n",
            "{'loss': 2.2172616577148436, 'learning_rate': 5.1670029141448105e-06, 'epoch': 2.6899798251513114}\n",
            " 90% 4000/4461 [05:46<00:37, 12.44it/s][WARNING|training_args.py:467] 2021-01-04 07:37:45,019 >> Using deprecated `--per_gpu_eval_batch_size` argument which will be removed in a future version. Using `--per_device_eval_batch_size` is preferred.\n",
            "[INFO|trainer.py:1440] 2021-01-04 07:37:45,019 >> ***** Running Evaluation *****\n",
            "[INFO|trainer.py:1441] 2021-01-04 07:37:45,019 >>   Num examples = 162\n",
            "[INFO|trainer.py:1442] 2021-01-04 07:37:45,019 >>   Batch size = 1\n",
            "\n",
            "  0% 0/162 [00:00<?, ?it/s]\u001b[A\n",
            "  5% 8/162 [00:00<00:02, 73.39it/s]\u001b[A\n",
            "  9% 14/162 [00:00<00:02, 67.38it/s]\u001b[A\n",
            " 13% 21/162 [00:00<00:02, 65.58it/s]\u001b[A\n",
            " 17% 27/162 [00:00<00:02, 63.39it/s]\u001b[A\n",
            " 20% 33/162 [00:00<00:02, 62.08it/s]\u001b[A\n",
            " 24% 39/162 [00:00<00:02, 60.59it/s]\u001b[A\n",
            " 28% 45/162 [00:00<00:01, 59.62it/s]\u001b[A\n",
            " 31% 51/162 [00:00<00:01, 59.53it/s]\u001b[A\n",
            " 36% 58/162 [00:00<00:01, 59.79it/s]\u001b[A\n",
            " 40% 64/162 [00:01<00:01, 59.43it/s]\u001b[A\n",
            " 43% 70/162 [00:01<00:01, 59.56it/s]\u001b[A\n",
            " 47% 76/162 [00:01<00:01, 59.27it/s]\u001b[A\n",
            " 51% 82/162 [00:01<00:01, 59.43it/s]\u001b[A\n",
            " 55% 89/162 [00:01<00:01, 59.80it/s]\u001b[A\n",
            " 59% 96/162 [00:01<00:01, 59.97it/s]\u001b[A\n",
            " 64% 103/162 [00:01<00:00, 60.29it/s]\u001b[A\n",
            " 68% 110/162 [00:01<00:00, 59.13it/s]\u001b[A\n",
            " 72% 116/162 [00:01<00:00, 58.79it/s]\u001b[A\n",
            " 76% 123/162 [00:02<00:00, 59.34it/s]\u001b[A\n",
            " 80% 130/162 [00:02<00:00, 59.67it/s]\u001b[A\n",
            " 84% 136/162 [00:02<00:00, 59.56it/s]\u001b[A\n",
            " 88% 143/162 [00:02<00:00, 59.95it/s]\u001b[A\n",
            " 93% 150/162 [00:02<00:00, 60.35it/s]\u001b[A\n",
            "                                       \n",
            "\u001b[A{'eval_loss': 2.4272449016571045, 'eval_runtime': 2.7187, 'eval_samples_per_second': 59.587, 'epoch': 2.6899798251513114}\n",
            " 90% 4000/4461 [05:49<00:37, 12.44it/s]\n",
            "100% 162/162 [00:02<00:00, 60.16it/s]\u001b[A\n",
            "                                     \u001b[A[INFO|trainer.py:1248] 2021-01-04 07:37:47,739 >> Saving model checkpoint to ./output/checkpoint-4000\n",
            "[INFO|configuration_utils.py:289] 2021-01-04 07:37:47,740 >> Configuration saved in ./output/checkpoint-4000/config.json\n",
            "[INFO|modeling_utils.py:814] 2021-01-04 07:37:48,676 >> Model weights saved in ./output/checkpoint-4000/pytorch_model.bin\n",
            "100% 4460/4461 [06:30<00:00, 12.40it/s][INFO|trainer.py:878] 2021-01-04 07:38:28,564 >> \n",
            "\n",
            "Training completed. Do not forget to share your model on huggingface.co/models =)\n",
            "\n",
            "\n",
            "{'train_runtime': 390.2174, 'train_samples_per_second': 11.432, 'epoch': 3.0}\n",
            "100% 4461/4461 [06:30<00:00, 11.43it/s]\n",
            "[INFO|trainer.py:1248] 2021-01-04 07:38:28,583 >> Saving model checkpoint to ./output\n",
            "[INFO|configuration_utils.py:289] 2021-01-04 07:38:28,584 >> Configuration saved in ./output/config.json\n",
            "[INFO|modeling_utils.py:814] 2021-01-04 07:38:29,723 >> Model weights saved in ./output/pytorch_model.bin\n",
            "01/04/2021 07:38:29 - INFO - __main__ -   ***** Train results *****\n",
            "01/04/2021 07:38:29 - INFO - __main__ -     epoch = 3.0\n",
            "01/04/2021 07:38:29 - INFO - __main__ -     train_runtime = 390.2174\n",
            "01/04/2021 07:38:29 - INFO - __main__ -     train_samples_per_second = 11.432\n",
            "01/04/2021 07:38:29 - INFO - __main__ -   *** Evaluate ***\n",
            "[WARNING|training_args.py:467] 2021-01-04 07:38:29,799 >> Using deprecated `--per_gpu_eval_batch_size` argument which will be removed in a future version. Using `--per_device_eval_batch_size` is preferred.\n",
            "[INFO|trainer.py:1440] 2021-01-04 07:38:29,799 >> ***** Running Evaluation *****\n",
            "[INFO|trainer.py:1441] 2021-01-04 07:38:29,799 >>   Num examples = 162\n",
            "[INFO|trainer.py:1442] 2021-01-04 07:38:29,799 >>   Batch size = 1\n",
            "100% 162/162 [00:02<00:00, 59.27it/s]\n",
            "01/04/2021 07:38:32 - INFO - __main__ -   ***** Eval results *****\n",
            "01/04/2021 07:38:32 - INFO - __main__ -     perplexity = 11.295200694996275\n"
          ],
          "name": "stdout"
        }
      ]
    },
    {
      "cell_type": "markdown",
      "metadata": {
        "id": "vj_aJ6myvpZR"
      },
      "source": [
        "## Play with model"
      ]
    },
    {
      "cell_type": "code",
      "metadata": {
        "id": "6riV2LC7vqPQ"
      },
      "source": [
        "from transformers import pipeline"
      ],
      "execution_count": 9,
      "outputs": []
    },
    {
      "cell_type": "code",
      "metadata": {
        "id": "0CV12Xz0wiI5"
      },
      "source": [
        "ft_generator = pipeline('text-generation', model='./output')"
      ],
      "execution_count": 10,
      "outputs": []
    },
    {
      "cell_type": "code",
      "metadata": {
        "id": "U7oCnZNhPCEZ"
      },
      "source": [
        "def PrettyPrintPrediction(text):\n",
        "  print()\n",
        "  text = text.replace('#', '\\n')\n",
        "  print(text)"
      ],
      "execution_count": 13,
      "outputs": []
    },
    {
      "cell_type": "code",
      "metadata": {
        "id": "XBnHXEjvf0HX"
      },
      "source": [
        "ft_generator( )"
      ],
      "execution_count": null,
      "outputs": []
    },
    {
      "cell_type": "code",
      "metadata": {
        "colab": {
          "base_uri": "https://localhost:8080/"
        },
        "id": "IMfMQy-o2Q__",
        "outputId": "47c392ca-659d-4e17-d04f-1a0598780ba1"
      },
      "source": [
        "for text in ft_generator(\"Vivek: Mihir sucks #Sreejith2: I agree! Tell me more#Vivek: Dude he always makes fun of me#Vivek:\", max_length=256, num_return_sequences=3):\n",
        "  PrettyPrintPrediction(text['generated_text'])"
      ],
      "execution_count": 23,
      "outputs": [
        {
          "output_type": "stream",
          "text": [
            "Setting `pad_token_id` to `eos_token_id`:50256 for open-end generation.\n"
          ],
          "name": "stderr"
        },
        {
          "output_type": "stream",
          "text": [
            "\n",
            "Vivek: Mihir sucks \\m/\n",
            "Sreejith2: I agree! Tell me more\n",
            "Vivek: Dude he always makes fun of me\n",
            "Vivek: 🤣\n",
            "Sreejith2: Hey thanks man. There is just one guy in the building who says \"hey fuck you bitch\"\n",
            "Sreejith2: https://youtu.be/z6YQtJd8sq\n",
            "Vivek: He has more jokes than Hitler\n",
            "Vivek: 🤣\n",
            "Sreejith2: Oho\n",
            "Sreejith2: Hey, all peace is here man\n",
            "Vivek: Peace, will probably find peace here soon\n",
            "Sreejith2: I think only if you actually feel safe.\n",
            "Vivek: Yup.\n",
            "Sreejith2: Can stay in your car next morning\n",
            "Vivek: There?\n",
            "Sreejith2: Come to the police station\n",
            "Sreejith2: Wassup man\n",
            "Vivek: Hey!\n",
            "Sreejith2: Whose name you're working on?\n",
            "Vivek: I want to go to your place\n",
            "Sreejith2: What time\n",
            "\n",
            "Vivek: Mihir sucks \\m/\n",
            "Sreejith2: I agree! Tell me more\n",
            "Vivek: Dude he always makes fun of me\n",
            "Vivek: He's the same person\n",
            "Vivek: 🙄\n",
            "Sreejith2: Hey how did you get your visa?\n",
            "Vivek: To the US?\n",
            "Sreejith2: Hahaha\n",
            "Vivek: I wanted to change the visa\n",
            "Vivek: I decided to apply for it\n",
            "Sreejith2: In Bangalore for the last 2 days\n",
            "Vivek: And you've come across this\n",
            "Vivek: 🙈\n",
            "Vivek: Also I'm going to go to London for the last 3 days\n",
            "Sreejith2: Hey y'all have you gotten the visa?\n",
            "Vivek: And you'll need to submit it to the new US mail\n",
            "Vivek: I have no visa\n",
            "Vivek: And there is no visa\n",
            "Sreejith2: Ah ok okay😋\n",
            "Vivek: 👻\n",
            "Sreejith2: Also, don't you have one that will do it\n",
            "Sreejith2\n",
            "\n",
            "Vivek: Mihir sucks \\m/\n",
            "Sreejith2: I agree! Tell me more\n",
            "Vivek: Dude he always makes fun of me\n",
            "Vivek: Have you met?\n",
            "Sreejith2: Haan yeah\n",
            "Vivek: I'm meeting him tomorrow\n",
            "Sreejith2: <Media omitted>\n",
            "Sreejith2: <Media omitted>\n",
            "Vivek: He's being called\n",
            "Vivek: 😂😂\n",
            "Vivek: Hahahahahahaha\n",
            "Vivek: 😬\n",
            "Sreejith2: I think he's a weird character\n",
            "Vivek: In SF and tech\n",
            "Sreejith2: Also\n",
            "Sreejith2: I don't know if she's in SF now\n",
            "Vivek: 🙈\n",
            "Sreejith2: Yo what location?\n",
            "Vivek: Eyo\n",
            "Sreejith2: Hey\n",
            "Sreejith2: Yoyo\n",
            "Vivek: There\n",
            "Vivek: You\n",
            "Vivek: Free for a call?\n",
            "Vivek: For a call?\n",
            "Sreejith2: Yo\n",
            "Vivek\n"
          ],
          "name": "stdout"
        }
      ]
    },
    {
      "cell_type": "markdown",
      "metadata": {
        "id": "RDRDEqH2vGMV"
      },
      "source": [
        "## Download model"
      ]
    },
    {
      "cell_type": "markdown",
      "metadata": {
        "id": "8gp4JYnzjMRf"
      },
      "source": [
        "Download the model so you can use it with the Chrome extension."
      ]
    },
    {
      "cell_type": "code",
      "metadata": {
        "colab": {
          "base_uri": "https://localhost:8080/"
        },
        "id": "fac6_VtIvHQ_",
        "outputId": "80f41b42-e58a-4228-cdde-a38945fe1b37"
      },
      "source": [
        "!zip model.zip ./output/*"
      ],
      "execution_count": 24,
      "outputs": [
        {
          "output_type": "stream",
          "text": [
            "  adding: output/checkpoint-1600/ (stored 0%)\n",
            "  adding: output/checkpoint-2400/ (stored 0%)\n",
            "  adding: output/checkpoint-3200/ (stored 0%)\n",
            "  adding: output/checkpoint-4000/ (stored 0%)\n",
            "  adding: output/checkpoint-800/ (stored 0%)\n",
            "  adding: output/config.json (deflated 51%)\n",
            "  adding: output/eval_results_clm.txt (stored 0%)\n",
            "  adding: output/merges.txt (deflated 53%)\n",
            "  adding: output/pytorch_model.bin (deflated 9%)\n",
            "  adding: output/special_tokens_map.json (deflated 52%)\n",
            "  adding: output/tokenizer_config.json (deflated 38%)\n",
            "  adding: output/trainer_state.json (deflated 70%)\n",
            "  adding: output/training_args.bin (deflated 46%)\n",
            "  adding: output/train_results.txt (deflated 10%)\n",
            "  adding: output/vocab.json (deflated 59%)\n"
          ],
          "name": "stdout"
        }
      ]
    },
    {
      "cell_type": "code",
      "metadata": {
        "colab": {
          "base_uri": "https://localhost:8080/"
        },
        "id": "1Cvky9WHxLSd",
        "outputId": "c091e24f-bb09-4677-baa8-abcfb197dbcb"
      },
      "source": [
        "ls -l"
      ],
      "execution_count": 25,
      "outputs": [
        {
          "output_type": "stream",
          "text": [
            "total 302268\n",
            "-rw-r--r--  1 root root   1276333 Jan  4 07:30  data.txt\n",
            "-rw-r--r--  1 root root 305021348 Jan  4 07:58  model.zip\n",
            "drwxr-xr-x  7 root root      4096 Jan  4 07:38  \u001b[0m\u001b[01;34moutput\u001b[0m/\n",
            "drwxr-xr-x  3 root root      4096 Jan  4 07:31  \u001b[01;34mruns\u001b[0m/\n",
            "drwxr-xr-x  1 root root      4096 Dec 21 17:29  \u001b[01;34msample_data\u001b[0m/\n",
            "-rw-r--r--  1 root root    127482 Jan  4 07:30  test.txt\n",
            "-rw-r--r--  1 root root   1148810 Jan  4 07:30  train.txt\n",
            "drwxr-xr-x 15 root root      4096 Jan  4 07:28  \u001b[01;34mtransformers\u001b[0m/\n",
            "-rw-r--r--  1 root root    188024 Jan  4 07:29 'WhatsApp Chat with 5 Years Time 🌞.txt'\n",
            "-rw-r--r--  1 root root     96072 Jan  4 07:29 'WhatsApp Chat with Mihir London.txt'\n",
            "-rw-r--r--  1 root root    493383 Jan  4 07:30 'WhatsApp Chat with Rishi Amreeka.txt'\n",
            "-rw-r--r--  1 root root    271150 Jan  4 07:29 'WhatsApp Chat with Sreejith2.txt'\n",
            "-rw-r--r--  1 root root    351486 Jan  4 07:29 'WhatsApp Chat with Sreejith.txt'\n",
            "-rw-r--r--  1 root root    509144 Jan  4 07:30 'WhatsApp Chat with Vikrant London.txt'\n"
          ],
          "name": "stdout"
        }
      ]
    },
    {
      "cell_type": "code",
      "metadata": {
        "colab": {
          "base_uri": "https://localhost:8080/",
          "height": 17
        },
        "id": "IF1Qh8X6xrt1",
        "outputId": "f4c9ad0f-b020-47ff-8eee-0fe0ac1f8e1b"
      },
      "source": [
        "files.download('model.zip')"
      ],
      "execution_count": 26,
      "outputs": [
        {
          "output_type": "display_data",
          "data": {
            "application/javascript": [
              "\n",
              "    async function download(id, filename, size) {\n",
              "      if (!google.colab.kernel.accessAllowed) {\n",
              "        return;\n",
              "      }\n",
              "      const div = document.createElement('div');\n",
              "      const label = document.createElement('label');\n",
              "      label.textContent = `Downloading \"${filename}\": `;\n",
              "      div.appendChild(label);\n",
              "      const progress = document.createElement('progress');\n",
              "      progress.max = size;\n",
              "      div.appendChild(progress);\n",
              "      document.body.appendChild(div);\n",
              "\n",
              "      const buffers = [];\n",
              "      let downloaded = 0;\n",
              "\n",
              "      const channel = await google.colab.kernel.comms.open(id);\n",
              "      // Send a message to notify the kernel that we're ready.\n",
              "      channel.send({})\n",
              "\n",
              "      for await (const message of channel.messages) {\n",
              "        // Send a message to notify the kernel that we're ready.\n",
              "        channel.send({})\n",
              "        if (message.buffers) {\n",
              "          for (const buffer of message.buffers) {\n",
              "            buffers.push(buffer);\n",
              "            downloaded += buffer.byteLength;\n",
              "            progress.value = downloaded;\n",
              "          }\n",
              "        }\n",
              "      }\n",
              "      const blob = new Blob(buffers, {type: 'application/binary'});\n",
              "      const a = document.createElement('a');\n",
              "      a.href = window.URL.createObjectURL(blob);\n",
              "      a.download = filename;\n",
              "      div.appendChild(a);\n",
              "      a.click();\n",
              "      div.remove();\n",
              "    }\n",
              "  "
            ],
            "text/plain": [
              "<IPython.core.display.Javascript object>"
            ]
          },
          "metadata": {
            "tags": []
          }
        },
        {
          "output_type": "display_data",
          "data": {
            "application/javascript": [
              "download(\"download_8df03770-4b81-4eec-8bb7-342f78da7a4a\", \"model.zip\", 305021348)"
            ],
            "text/plain": [
              "<IPython.core.display.Javascript object>"
            ]
          },
          "metadata": {
            "tags": []
          }
        }
      ]
    },
    {
      "cell_type": "markdown",
      "metadata": {
        "id": "Hk9baYSr62rD"
      },
      "source": [
        "## Load a saved model"
      ]
    },
    {
      "cell_type": "markdown",
      "metadata": {
        "id": "l_4X0yePiqv2"
      },
      "source": [
        "Use this to play with a model you've previously downloaded. You will need to connect colab to a locally running Jupyter runtime."
      ]
    },
    {
      "cell_type": "code",
      "metadata": {
        "id": "gfxgcKlb6_Uf"
      },
      "source": [
        "from transformers import pipeline"
      ],
      "execution_count": 2,
      "outputs": []
    },
    {
      "cell_type": "code",
      "metadata": {
        "id": "PJT7FdFG7M8q"
      },
      "source": [
        "ft_generator = pipeline('text-generation', model='../../Downloads/output_2')"
      ],
      "execution_count": 7,
      "outputs": []
    },
    {
      "cell_type": "code",
      "metadata": {
        "colab": {
          "base_uri": "https://localhost:8080/"
        },
        "id": "HscWDyJgz0fy",
        "outputId": "ddf36a2c-8e73-4943-8ca2-9a3188286874"
      },
      "source": [
        "for text in ft_generator(\"Vivek: Mihir sucks :(#Sreejith2: I agree! Tell me more#Vivek: Dude he always makes fun of me#Vivek:\", max_length=100, num_return_sequences=3, do_sample=True, eos_token_id=2, pad_token_id=0, skip_special_tokens=True, top_k=50, top_p=0.95):\n",
        "  PrettyPrintPrediction(text['generated_text'])"
      ],
      "execution_count": 64,
      "outputs": [
        {
          "output_type": "stream",
          "text": [
            "\n",
            "Vivek: Mihir sucks :(\n",
            "Sreejith2: I agree! Tell me more\n",
            "Vivek: Dude he always makes fun of me\n",
            "Vivek: I just wanted to know if there is any one thing that he does in life for me no?\n",
            "\n",
            "\n",
            "Vivek: Mihir sucks :(\n",
            "Sreejith2: I agree! Tell me more\n",
            "Vivek: Dude he always makes fun of me\n",
            "Vivek: And what did you mean?\n",
            "!!!!!!!!!!!!!!\n",
            "\n",
            "Vivek: Mihir sucks :(\n",
            "Sreejith2: I agree! Tell me more\n",
            "Vivek: Dude he always makes fun of me\n",
            "Vivek: That was a big problem for me when I was younger 🤣\n",
            "!!!!!!\n"
          ],
          "name": "stdout"
        }
      ]
    }
  ]
}